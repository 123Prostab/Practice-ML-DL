{
  "nbformat": 4,
  "nbformat_minor": 0,
  "metadata": {
    "colab": {
      "name": "practice_function.ipynb",
      "provenance": [],
      "collapsed_sections": [],
      "authorship_tag": "ABX9TyMZwCgkBvIAmuY6qQvGEW8a",
      "include_colab_link": true
    },
    "kernelspec": {
      "name": "python3",
      "display_name": "Python 3"
    },
    "language_info": {
      "name": "python"
    }
  },
  "cells": [
    {
      "cell_type": "markdown",
      "metadata": {
        "id": "view-in-github",
        "colab_type": "text"
      },
      "source": [
        "<a href=\"https://colab.research.google.com/github/123Prostab/Practice-ML-DL/blob/main/practice_function.ipynb\" target=\"_parent\"><img src=\"https://colab.research.google.com/assets/colab-badge.svg\" alt=\"Open In Colab\"/></a>"
      ]
    },
    {
      "cell_type": "markdown",
      "metadata": {
        "id": "shuH8H4ulsEZ"
      },
      "source": [
        "1.Write a function that inputs a number and prints the multiplication table of that number"
      ]
    },
    {
      "cell_type": "code",
      "metadata": {
        "colab": {
          "base_uri": "https://localhost:8080/"
        },
        "id": "LW2cx8vDhMjQ",
        "outputId": "fee6929a-a62a-4761-e2c4-c281123acfa7"
      },
      "source": [
        "# function that print multiplication table of a number\n",
        "def multiplication(number):\n",
        "  for i in range(1,11):\n",
        "    print(f\"{number} * {i} = {number * i}\")\n",
        "\n",
        "multiplication(13)"
      ],
      "execution_count": null,
      "outputs": [
        {
          "output_type": "stream",
          "text": [
            "13 * 1 = 13\n",
            "13 * 2 = 26\n",
            "13 * 3 = 39\n",
            "13 * 4 = 52\n",
            "13 * 5 = 65\n",
            "13 * 6 = 78\n",
            "13 * 7 = 91\n",
            "13 * 8 = 104\n",
            "13 * 9 = 117\n",
            "13 * 10 = 130\n"
          ],
          "name": "stdout"
        }
      ]
    },
    {
      "cell_type": "markdown",
      "metadata": {
        "id": "lgCgwkL8rKmA"
      },
      "source": [
        "2.Write a program to print twin primes less than 1000. If two consecutive odd numbers are both prime then they are known as twin primes\n"
      ]
    },
    {
      "cell_type": "code",
      "metadata": {
        "colab": {
          "base_uri": "https://localhost:8080/"
        },
        "id": "JieLTc-Vt4EF",
        "outputId": "bb5d2f85-66d3-4c3c-b344-6155a52bc7a4"
      },
      "source": [
        "# twin prime less than 1000\n",
        "def prime(number):\n",
        "  for divisor in range(2,number):\n",
        "    if number % divisor == 0:\n",
        "      return False\n",
        "      break\n",
        "  return True\n",
        "\n",
        "for ele in range(3,1000):\n",
        "  if prime(ele) == True and prime(ele + 2) == True:\n",
        "    print(ele, ele + 2)\n",
        "\n",
        "\n",
        "\n"
      ],
      "execution_count": null,
      "outputs": [
        {
          "output_type": "stream",
          "text": [
            "3 5\n",
            "5 7\n",
            "11 13\n",
            "17 19\n",
            "29 31\n",
            "41 43\n",
            "59 61\n",
            "71 73\n",
            "101 103\n",
            "107 109\n",
            "137 139\n",
            "149 151\n",
            "179 181\n",
            "191 193\n",
            "197 199\n",
            "227 229\n",
            "239 241\n",
            "269 271\n",
            "281 283\n",
            "311 313\n",
            "347 349\n",
            "419 421\n",
            "431 433\n",
            "461 463\n",
            "521 523\n",
            "569 571\n",
            "599 601\n",
            "617 619\n",
            "641 643\n",
            "659 661\n",
            "809 811\n",
            "821 823\n",
            "827 829\n",
            "857 859\n",
            "881 883\n"
          ],
          "name": "stdout"
        }
      ]
    },
    {
      "cell_type": "markdown",
      "metadata": {
        "id": "txvDC80AwqoY"
      },
      "source": [
        "3.Write a program to find out the prime factors of a number. Example: prime factors of 56 - 2, 2, 2,7\n"
      ]
    },
    {
      "cell_type": "code",
      "metadata": {
        "colab": {
          "base_uri": "https://localhost:8080/"
        },
        "id": "-3Pb5jYyzpgs",
        "outputId": "ecb657d7-78cd-4d9a-a072-b6f45f7c94e0"
      },
      "source": [
        "#prime factor of a number\n",
        "def prime(number):\n",
        "  for divisor in range(2,number):\n",
        "    if number % divisor == 0:\n",
        "      return False\n",
        "      break\n",
        "  return True\n",
        "\n",
        "sample_number = int(input())\n",
        "l = []\n",
        "for i in range(2,sample_number):\n",
        "  if sample_number % i == 0 and prime(i) == True:\n",
        "    l.append(i)\n",
        "for ele in l:  \n",
        "  while (sample_number % ele == 0):  \n",
        "    sample_number = sample_number // ele\n",
        "    print(ele,end = \",\")\n",
        "\n",
        "  \n",
        "\n",
        "\n",
        " \n"
      ],
      "execution_count": null,
      "outputs": [
        {
          "output_type": "stream",
          "text": [
            "56\n",
            "2,2,2,7,"
          ],
          "name": "stdout"
        }
      ]
    },
    {
      "cell_type": "markdown",
      "metadata": {
        "id": "ldx3WpokAzh0"
      },
      "source": [
        "4)Write a program to implement these formulae of permutations and combinations. Number of permutations of n objects taken r at a time: p(n, r) = n! / (n-r)!. Number of combinations of n objects taken r at a time is: c(n, r) = n! / (r!*(n-r)!) = p(n,r) / r!\n"
      ]
    },
    {
      "cell_type": "code",
      "metadata": {
        "colab": {
          "base_uri": "https://localhost:8080/"
        },
        "id": "co1s-soaA_g1",
        "outputId": "d2c27f91-2961-46fc-a1af-80ef446dc7f8"
      },
      "source": [
        "#permuation and combination\n",
        "def factorial(number):\n",
        "  if number == 0 or number == 1:\n",
        "    return 1\n",
        "  elif number < 0:\n",
        "    print(\"invalid\")\n",
        "  else:\n",
        "    return number * factorial(number - 1)\n",
        "def permutation(n,r):\n",
        "  return (factorial(n)/factorial(n-r))\n",
        "def combination(n,r):\n",
        "  return (factorial(n)/(factorial(r) * factorial(n-r)))\n",
        "\n",
        "print(permutation(5,2))\n",
        "print(combination(5,2))\n"
      ],
      "execution_count": null,
      "outputs": [
        {
          "output_type": "stream",
          "text": [
            "20.0\n",
            "10.0\n"
          ],
          "name": "stdout"
        }
      ]
    },
    {
      "cell_type": "code",
      "metadata": {
        "id": "hfYCcOHhEq1Z"
      },
      "source": [
        "5.write a function that converts decimal number to binary numbers"
      ],
      "execution_count": null,
      "outputs": []
    },
    {
      "cell_type": "code",
      "metadata": {
        "colab": {
          "base_uri": "https://localhost:8080/"
        },
        "id": "BLj8JO4VE0C5",
        "outputId": "90965fc3-d27e-4b8e-cd02-6d031e20a0b2"
      },
      "source": [
        "def binary(number):\n",
        "  l = []\n",
        "  while (number > 1):    \n",
        "    remainder = number % 2\n",
        "    l.append(remainder)\n",
        "    number = number // 2\n",
        "  l = l + [number]\n",
        "  return (l[::-1])\n",
        "print(binary(13))\n",
        "print(binary(174))\n",
        "\n"
      ],
      "execution_count": null,
      "outputs": [
        {
          "output_type": "stream",
          "text": [
            "[1, 1, 0, 1]\n",
            "[1, 0, 1, 0, 1, 1, 1, 0]\n"
          ],
          "name": "stdout"
        }
      ]
    },
    {
      "cell_type": "markdown",
      "metadata": {
        "id": "a0nu-UISMC4y"
      },
      "source": [
        "\n",
        "6)Write a function cubesum() that accepts an integer and returns the sum of the cubes of individual digits of that number. Use this function to make functions PrintArmstrong() and isArmstrong() to print Armstrong numbers and to find whether is an Armstrong number"
      ]
    },
    {
      "cell_type": "code",
      "metadata": {
        "colab": {
          "base_uri": "https://localhost:8080/"
        },
        "id": "dKe2430BjVxh",
        "outputId": "8417a11d-8926-4c5f-f774-d3078c18f094"
      },
      "source": [
        "def cubesum(number):\n",
        "  result = 0\n",
        "  for ele in str(number):\n",
        "    result += int(ele) ** 3\n",
        "  return(result)\n",
        "\n",
        "print(cubesum(153))\n"
      ],
      "execution_count": 2,
      "outputs": [
        {
          "output_type": "stream",
          "text": [
            "153\n"
          ],
          "name": "stdout"
        }
      ]
    },
    {
      "cell_type": "code",
      "metadata": {
        "colab": {
          "base_uri": "https://localhost:8080/"
        },
        "id": "itxrcwLiKJke",
        "outputId": "d18cb6fa-31dc-4e2c-c789-7ffc82252809"
      },
      "source": [
        "\n",
        "def PrintArmstrong(n):\n",
        "  for ele in range(n):\n",
        "    if ele == cubesum(ele):\n",
        "      print(ele)\n",
        "\n",
        "def IsArmstrong(number):\n",
        "  return cubesum(number) == number\n",
        "\n",
        "print(IsArmstrong(153))\n"
      ],
      "execution_count": 3,
      "outputs": [
        {
          "output_type": "stream",
          "text": [
            "True\n"
          ],
          "name": "stdout"
        }
      ]
    },
    {
      "cell_type": "markdown",
      "metadata": {
        "id": "2xA1yJdnCQ4Y"
      },
      "source": [
        "7.write a function prodDigits() that inputs a number and return the product of the digits of that number"
      ]
    },
    {
      "cell_type": "code",
      "metadata": {
        "id": "lDQQ6uP4opOM",
        "colab": {
          "base_uri": "https://localhost:8080/"
        },
        "outputId": "0c4cd060-b2f8-40ef-cd56-6ed9498404e8"
      },
      "source": [
        "def prodDigits(number):\n",
        "  product = 1\n",
        "  for ele in str(number):\n",
        "    product *= int(ele)\n",
        "  return product\n",
        "\n",
        "print(prodDigits(154))\n"
      ],
      "execution_count": 4,
      "outputs": [
        {
          "output_type": "stream",
          "text": [
            "20\n"
          ],
          "name": "stdout"
        }
      ]
    },
    {
      "cell_type": "markdown",
      "metadata": {
        "id": "Qa2cbyyFDEtT"
      },
      "source": [
        "8.using the function prodDigits() of previous exercise write function MDR() and MPersistence() that input a number and returns Multiplicative Digital root and multiplicative persistence respectively"
      ]
    },
    {
      "cell_type": "code",
      "metadata": {
        "colab": {
          "base_uri": "https://localhost:8080/"
        },
        "id": "IavbWmTdEww0",
        "outputId": "7ede8547-7203-467d-b60d-0bb56690e569"
      },
      "source": [
        "def MDR(number):\n",
        "  endproduct = prodDigits(number)\n",
        "  while len(str(endproduct)) > 1:\n",
        "    endproduct = prodDigits(endproduct)\n",
        "  return endproduct\n",
        "\n",
        "def Mpersistence(number):\n",
        "  endproduct = prodDigits(number)\n",
        "  i = 1\n",
        "  while len(str(endproduct)) > 1:\n",
        "    endproduct = prodDigits(endproduct)\n",
        "    i += 1\n",
        "  return i\n",
        "multiplicative_digital_root,multiplicative_persistence = MDR(86), Mpersistence(86)\n",
        "print(multiplicative_digital_root,multiplicative_persistence)"
      ],
      "execution_count": 12,
      "outputs": [
        {
          "output_type": "stream",
          "text": [
            "6 3\n"
          ],
          "name": "stdout"
        }
      ]
    },
    {
      "cell_type": "markdown",
      "metadata": {
        "id": "x3Wwv7ovH9vG"
      },
      "source": [
        "9.write a function sumPdivisors that finds sum of proper divisors of a number"
      ]
    },
    {
      "cell_type": "code",
      "metadata": {
        "colab": {
          "base_uri": "https://localhost:8080/"
        },
        "id": "7B48Z5wHJqwm",
        "outputId": "c760eaf2-6500-4dee-e196-36edaf448ca8"
      },
      "source": [
        "def sumPdivisors(number):\n",
        "  l = []\n",
        "  for i in range(1,number):\n",
        "    if number % i == 0:\n",
        "      l.append(i)\n",
        "  return sum(l)\n",
        "\n",
        "print(sumPdivisors(284))"
      ],
      "execution_count": 28,
      "outputs": [
        {
          "output_type": "stream",
          "text": [
            "220\n"
          ],
          "name": "stdout"
        }
      ]
    },
    {
      "cell_type": "markdown",
      "metadata": {
        "id": "rbHUIriuKpzC"
      },
      "source": [
        "10.write a program to print all perfect numbers in a given range"
      ]
    },
    {
      "cell_type": "code",
      "metadata": {
        "colab": {
          "base_uri": "https://localhost:8080/"
        },
        "id": "dCkqWKucK5vE",
        "outputId": "e0150a87-4d02-4878-c765-66e1f2b44488"
      },
      "source": [
        "def perfect(numrange):\n",
        "  for i in range(1,numrange):\n",
        "    if i == sumPdivisors(i):\n",
        "      print(i)\n",
        "perfect(100)"
      ],
      "execution_count": 22,
      "outputs": [
        {
          "output_type": "stream",
          "text": [
            "6\n",
            "28\n"
          ],
          "name": "stdout"
        }
      ]
    },
    {
      "cell_type": "markdown",
      "metadata": {
        "id": "Fir1NT4_NQs0"
      },
      "source": [
        "11. write a function to print a pair of amicable number in a range"
      ]
    },
    {
      "cell_type": "code",
      "metadata": {
        "colab": {
          "base_uri": "https://localhost:8080/"
        },
        "id": "Gxv7gBuLNhPy",
        "outputId": "d5de64c4-0551-4bf7-a275-e5db9f872825"
      },
      "source": [
        "def amicable(numrange):\n",
        "  for i in range(numrange):\n",
        "    for j in range(numrange):\n",
        "      if sumPdivisors(i) == j and sumPdivisors(j) == i and i != j:\n",
        "        print(i,j)\n",
        "amicable(300)"
      ],
      "execution_count": 29,
      "outputs": [
        {
          "output_type": "stream",
          "text": [
            "220 284\n",
            "284 220\n"
          ],
          "name": "stdout"
        }
      ]
    },
    {
      "cell_type": "code",
      "metadata": {
        "id": "bakzXmxPR4KO"
      },
      "source": [
        "12. write a function which can filter odd number in a list by using filer function"
      ],
      "execution_count": null,
      "outputs": []
    },
    {
      "cell_type": "code",
      "metadata": {
        "colab": {
          "base_uri": "https://localhost:8080/"
        },
        "id": "_EAfwedHSHsB",
        "outputId": "b6e4585d-d3e2-43f4-994d-2654bb957c8c"
      },
      "source": [
        "def is_odd(number):\n",
        "  return number % 2 != 0\n",
        "l1 = list(range(10)) # list of number\n",
        "l2 = list(filter(is_odd,l1)) # list of odd number\n",
        "print(l2)"
      ],
      "execution_count": 30,
      "outputs": [
        {
          "output_type": "stream",
          "text": [
            "[1, 3, 5, 7, 9]\n"
          ],
          "name": "stdout"
        }
      ]
    },
    {
      "cell_type": "markdown",
      "metadata": {
        "id": "kjWMgxcRUBPI"
      },
      "source": [
        "13. write a program which can map to a list whose element are cube of element of the given list"
      ]
    },
    {
      "cell_type": "code",
      "metadata": {
        "colab": {
          "base_uri": "https://localhost:8080/"
        },
        "id": "OlzUMhO4Tr3f",
        "outputId": "b6876631-e222-4fec-a53b-755eb1906fd6"
      },
      "source": [
        "l1 = list(range(10))\n",
        "l2 = list(map(lambda x : x**3 , l1))\n",
        "print(l2)"
      ],
      "execution_count": 31,
      "outputs": [
        {
          "output_type": "stream",
          "text": [
            "[0, 1, 8, 27, 64, 125, 216, 343, 512, 729]\n"
          ],
          "name": "stdout"
        }
      ]
    },
    {
      "cell_type": "markdown",
      "metadata": {
        "id": "W2n4OS5RV1FL"
      },
      "source": [
        "14.write a program which can map and filter to make a list whose element are  cube of the even number of the given list"
      ]
    },
    {
      "cell_type": "code",
      "metadata": {
        "colab": {
          "base_uri": "https://localhost:8080/"
        },
        "id": "Ilhhk7wrXFc6",
        "outputId": "1cca1d64-5994-4280-e85e-04e5b1d20569"
      },
      "source": [
        "l1 = list(range(10))\n",
        "l2 = list(map(lambda x:x**3,filter(lambda x: x % 2 != 0, l1)))\n",
        "print(l2)"
      ],
      "execution_count": 34,
      "outputs": [
        {
          "output_type": "stream",
          "text": [
            "[1, 27, 125, 343, 729]\n"
          ],
          "name": "stdout"
        }
      ]
    }
  ]
}