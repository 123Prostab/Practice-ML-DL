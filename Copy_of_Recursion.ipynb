{
  "nbformat": 4,
  "nbformat_minor": 0,
  "metadata": {
    "colab": {
      "name": "Copy of Recursion.ipynb",
      "provenance": [],
      "authorship_tag": "ABX9TyN6moiuzQRPTDMiv7LrfhgU",
      "include_colab_link": true
    },
    "kernelspec": {
      "name": "python3",
      "display_name": "Python 3"
    },
    "language_info": {
      "name": "python"
    }
  },
  "cells": [
    {
      "cell_type": "markdown",
      "metadata": {
        "id": "view-in-github",
        "colab_type": "text"
      },
      "source": [
        "<a href=\"https://colab.research.google.com/github/123Prostab/Practice-ML-DL/blob/main/Copy_of_Recursion.ipynb\" target=\"_parent\"><img src=\"https://colab.research.google.com/assets/colab-badge.svg\" alt=\"Open In Colab\"/></a>"
      ]
    },
    {
      "cell_type": "code",
      "metadata": {
        "colab": {
          "base_uri": "https://localhost:8080/"
        },
        "id": "E8EHe0a_jqGp",
        "outputId": "6bf564cc-fa52-4234-e2e4-d2b76c6165f5"
      },
      "source": [
        "#Recursion\n",
        "def factorial(num):\n",
        "  return 1 if num == 1 else (num * factorial(num - 1))\n",
        "\n",
        "num = 5\n",
        "print(\"Factorial of {0} is {1}\".format(num,factorial(num)))\n",
        "\n"
      ],
      "execution_count": null,
      "outputs": [
        {
          "output_type": "stream",
          "text": [
            "Factorial of 5 is 120\n"
          ],
          "name": "stdout"
        }
      ]
    },
    {
      "cell_type": "code",
      "metadata": {
        "colab": {
          "base_uri": "https://localhost:8080/"
        },
        "id": "ab-wx7ezANb_",
        "outputId": "5cc857dc-1787-489c-b315-46187d5fb867"
      },
      "source": [
        "#fibonnacci\n",
        "def fibonacci(num):\n",
        "  return num if num <= 1 else fibonacci(num-1) + fibonacci(num-2)\n",
        "nterms = range(10)\n",
        "for nterm in nterms:\n",
        "  print(\"fibonacci sequence:\",fibonacci(nterm))"
      ],
      "execution_count": null,
      "outputs": [
        {
          "output_type": "stream",
          "text": [
            "fibonacci sequence: 0\n",
            "fibonacci sequence: 1\n",
            "fibonacci sequence: 1\n",
            "fibonacci sequence: 2\n",
            "fibonacci sequence: 3\n",
            "fibonacci sequence: 5\n",
            "fibonacci sequence: 8\n",
            "fibonacci sequence: 13\n",
            "fibonacci sequence: 21\n",
            "fibonacci sequence: 34\n"
          ],
          "name": "stdout"
        }
      ]
    }
  ]
}