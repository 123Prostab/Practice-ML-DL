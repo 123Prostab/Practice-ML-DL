{
  "nbformat": 4,
  "nbformat_minor": 0,
  "metadata": {
    "colab": {
      "name": "panda1.ipynb",
      "provenance": [],
      "collapsed_sections": [],
      "authorship_tag": "ABX9TyPvip/8lY5Ys8aoZ9WGGoHT",
      "include_colab_link": true
    },
    "kernelspec": {
      "name": "python3",
      "display_name": "Python 3"
    },
    "language_info": {
      "name": "python"
    }
  },
  "cells": [
    {
      "cell_type": "markdown",
      "metadata": {
        "id": "view-in-github",
        "colab_type": "text"
      },
      "source": [
        "<a href=\"https://colab.research.google.com/github/123Prostab/Practice-ML-DL/blob/main/panda1.ipynb\" target=\"_parent\"><img src=\"https://colab.research.google.com/assets/colab-badge.svg\" alt=\"Open In Colab\"/></a>"
      ]
    },
    {
      "cell_type": "code",
      "metadata": {
        "id": "eF5KqOGVMGZb"
      },
      "source": [
        "import pandas as pd\n",
        "df = pd.read_csv(\"/content/nyc_weather.csv\")\n"
      ],
      "execution_count": 1,
      "outputs": []
    },
    {
      "cell_type": "code",
      "metadata": {
        "colab": {
          "base_uri": "https://localhost:8080/"
        },
        "id": "rvne2eoLMtBj",
        "outputId": "a1eab9d7-6e56-4033-d5a0-3a62d79eb547"
      },
      "source": [
        "df[\"Temperature\"].max()"
      ],
      "execution_count": 4,
      "outputs": [
        {
          "output_type": "execute_result",
          "data": {
            "text/plain": [
              "50"
            ]
          },
          "metadata": {},
          "execution_count": 4
        }
      ]
    },
    {
      "cell_type": "code",
      "metadata": {
        "colab": {
          "base_uri": "https://localhost:8080/"
        },
        "id": "ihXtL4B0NPdw",
        "outputId": "4148f087-1a58-4a94-f0b2-6cb0ec23f84d"
      },
      "source": [
        "df[\"EST\"][df[\"Events\"] == \"Rain\"]"
      ],
      "execution_count": 6,
      "outputs": [
        {
          "output_type": "execute_result",
          "data": {
            "text/plain": [
              "8      1/9/2016\n",
              "9     1/10/2016\n",
              "15    1/16/2016\n",
              "26    1/27/2016\n",
              "Name: EST, dtype: object"
            ]
          },
          "metadata": {},
          "execution_count": 6
        }
      ]
    },
    {
      "cell_type": "code",
      "metadata": {
        "colab": {
          "base_uri": "https://localhost:8080/"
        },
        "id": "YKRs-XJrNgBl",
        "outputId": "c559190f-c224-4596-eb37-196ce8197226"
      },
      "source": [
        "df[\"WindSpeedMPH\"].mean()"
      ],
      "execution_count": 7,
      "outputs": [
        {
          "output_type": "execute_result",
          "data": {
            "text/plain": [
              "6.892857142857143"
            ]
          },
          "metadata": {},
          "execution_count": 7
        }
      ]
    }
  ]
}