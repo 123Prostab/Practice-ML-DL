{
  "nbformat": 4,
  "nbformat_minor": 0,
  "metadata": {
    "colab": {
      "name": "Copy of DataStructure.ipynb",
      "provenance": [],
      "authorship_tag": "ABX9TyOdQfGzBVrJJ6z6gLOKHnwW",
      "include_colab_link": true
    },
    "kernelspec": {
      "name": "python3",
      "display_name": "Python 3"
    },
    "language_info": {
      "name": "python"
    }
  },
  "cells": [
    {
      "cell_type": "markdown",
      "metadata": {
        "id": "view-in-github",
        "colab_type": "text"
      },
      "source": [
        "<a href=\"https://colab.research.google.com/github/123Prostab/Practice-ML-DL/blob/main/Copy_of_DataStructure.ipynb\" target=\"_parent\"><img src=\"https://colab.research.google.com/assets/colab-badge.svg\" alt=\"Open In Colab\"/></a>"
      ]
    },
    {
      "cell_type": "markdown",
      "metadata": {
        "id": "qbVDJscAxhsM"
      },
      "source": [
        "<h1>Dictionary<h1>\n",
        "\n"
      ]
    },
    {
      "cell_type": "code",
      "metadata": {
        "colab": {
          "base_uri": "https://localhost:8080/"
        },
        "id": "qoD8f_BOvH_Q",
        "outputId": "661fc3ad-1558-40ec-c277-0d38485c4b23"
      },
      "source": [
        "my_dict ={}\n",
        "my_dict = {1:\"abc\",2:\"xyz\"}\n",
        "print(my_dict)\n",
        "my_dict = {\"name\":\"satish\",1:{\"abc\",\"xyz\"}}\n",
        "print(my_dict)\n",
        "my_dict = dict()\n",
        "my_dict = dict([(\"1\",\"abc\"),(\"2\",\"xyz\")])\n",
        "print(my_dict)"
      ],
      "execution_count": null,
      "outputs": [
        {
          "output_type": "stream",
          "text": [
            "{1: 'abc', 2: 'xyz'}\n",
            "{'name': 'satish', 1: {'abc', 'xyz'}}\n",
            "{'1': 'abc', '2': 'xyz'}\n"
          ],
          "name": "stdout"
        }
      ]
    },
    {
      "cell_type": "code",
      "metadata": {
        "colab": {
          "base_uri": "https://localhost:8080/"
        },
        "id": "XZBD_ZE3xDf7",
        "outputId": "d1022dd4-ea59-48bc-e0e1-6ebfb49092f5"
      },
      "source": [
        "my_dict = {'name': 'satish','age': 27,'address' :'guntur' }\n",
        "print(my_dict.get(\"address\"))\n",
        "my_dict[\"name\"] = \"raju\"\n",
        "my_dict[\"degree\"] = \"M.Tech\"  \n",
        "my_dict.pop(\"name\")\n",
        "print(my_dict)"
      ],
      "execution_count": null,
      "outputs": [
        {
          "output_type": "stream",
          "text": [
            "guntur\n",
            "{'age': 27, 'address': 'guntur', 'degree': 'M.Tech'}\n"
          ],
          "name": "stdout"
        }
      ]
    },
    {
      "cell_type": "code",
      "metadata": {
        "colab": {
          "base_uri": "https://localhost:8080/"
        },
        "id": "LYtjyV-rxz6X",
        "outputId": "fd496221-cebe-4a6b-c8f3-3979a03200c7"
      },
      "source": [
        "my_dict = {'name': 'satish','age': 27,'address' :'guntur' }\n",
        "my_dct = my_dict.copy()\n",
        "print(my_dct)"
      ],
      "execution_count": null,
      "outputs": [
        {
          "output_type": "stream",
          "text": [
            "{'name': 'satish', 'age': 27, 'address': 'guntur'}\n"
          ],
          "name": "stdout"
        }
      ]
    },
    {
      "cell_type": "code",
      "metadata": {
        "colab": {
          "base_uri": "https://localhost:8080/"
        },
        "id": "xLcV7DRj1uVf",
        "outputId": "28439f8d-7a21-4531-9a03-3540eb6f1d0c"
      },
      "source": [
        "d = {}\n",
        "print(dir(d))"
      ],
      "execution_count": null,
      "outputs": [
        {
          "output_type": "stream",
          "text": [
            "['__class__', '__contains__', '__delattr__', '__delitem__', '__dir__', '__doc__', '__eq__', '__format__', '__ge__', '__getattribute__', '__getitem__', '__gt__', '__hash__', '__init__', '__init_subclass__', '__iter__', '__le__', '__len__', '__lt__', '__ne__', '__new__', '__reduce__', '__reduce_ex__', '__repr__', '__setattr__', '__setitem__', '__sizeof__', '__str__', '__subclasshook__', 'clear', 'copy', 'fromkeys', 'get', 'items', 'keys', 'pop', 'popitem', 'setdefault', 'update', 'values']\n"
          ],
          "name": "stdout"
        }
      ]
    },
    {
      "cell_type": "code",
      "metadata": {
        "colab": {
          "base_uri": "https://localhost:8080/"
        },
        "id": "YKJdwHDd2mUV",
        "outputId": "7ac18256-69d1-49fa-dd75-3692818e5089"
      },
      "source": [
        "d = {\"a\":1,\"b\":2,\"c\":3,\"d\":4,\"e\":5}\n",
        "d = {k+'c':v * 2   for k,v in d.items() if v > 2}\n",
        "print(d)\n"
      ],
      "execution_count": null,
      "outputs": [
        {
          "output_type": "stream",
          "text": [
            "{'cc': 6, 'dc': 8, 'ec': 10}\n"
          ],
          "name": "stdout"
        }
      ]
    },
    {
      "cell_type": "markdown",
      "metadata": {
        "id": "HsyqfOoi8oNw"
      },
      "source": [
        "<h1><b1>strings<b1><h1>"
      ]
    },
    {
      "cell_type": "code",
      "metadata": {
        "colab": {
          "base_uri": "https://localhost:8080/",
          "height": 180
        },
        "id": "_yTnsrfo8Wfe",
        "outputId": "9d7b717a-502e-4f33-e7c0-e4927c0d766e"
      },
      "source": [
        "myString = \"Hello\"\n",
        "myString[0] =   \"a\""
      ],
      "execution_count": null,
      "outputs": [
        {
          "output_type": "error",
          "ename": "TypeError",
          "evalue": "ignored",
          "traceback": [
            "\u001b[0;31m---------------------------------------------------------------------------\u001b[0m",
            "\u001b[0;31mTypeError\u001b[0m                                 Traceback (most recent call last)",
            "\u001b[0;32m<ipython-input-39-27a110f530ac>\u001b[0m in \u001b[0;36m<module>\u001b[0;34m()\u001b[0m\n\u001b[1;32m      1\u001b[0m \u001b[0mmyString\u001b[0m \u001b[0;34m=\u001b[0m \u001b[0;34m\"Hello\"\u001b[0m\u001b[0;34m\u001b[0m\u001b[0;34m\u001b[0m\u001b[0m\n\u001b[0;32m----> 2\u001b[0;31m \u001b[0mmyString\u001b[0m\u001b[0;34m[\u001b[0m\u001b[0;36m0\u001b[0m\u001b[0;34m]\u001b[0m \u001b[0;34m=\u001b[0m   \u001b[0;34m\"a\"\u001b[0m\u001b[0;34m\u001b[0m\u001b[0;34m\u001b[0m\u001b[0m\n\u001b[0m",
            "\u001b[0;31mTypeError\u001b[0m: 'str' object does not support item assignment"
          ]
        }
      ]
    },
    {
      "cell_type": "code",
      "metadata": {
        "colab": {
          "base_uri": "https://localhost:8080/"
        },
        "id": "o5J1kTkt-K37",
        "outputId": "6b98577a-6807-4352-bc92-d7a11bcc5b6b"
      },
      "source": [
        "s1 = \"hello\"\n",
        "s2 = \"satish\"\n",
        "print(s1 + s2)\n",
        "print(s1*3)\n"
      ],
      "execution_count": null,
      "outputs": [
        {
          "output_type": "stream",
          "text": [
            "hellosatish\n",
            "hellohellohello\n"
          ],
          "name": "stdout"
        }
      ]
    },
    {
      "cell_type": "code",
      "metadata": {
        "colab": {
          "base_uri": "https://localhost:8080/"
        },
        "id": "oB3j94IK-y2W",
        "outputId": "b9836702-c50e-48a8-a081-d03839170140"
      },
      "source": [
        "count = 0\n",
        "for i in \"hello World\":\n",
        "  if i == \"o\":\n",
        "    count += 1\n",
        "print(count, \"letters found \")\n"
      ],
      "execution_count": null,
      "outputs": [
        {
          "output_type": "stream",
          "text": [
            "2 letters found\n"
          ],
          "name": "stdout"
        }
      ]
    },
    {
      "cell_type": "code",
      "metadata": {
        "colab": {
          "base_uri": "https://localhost:8080/"
        },
        "id": "LnH_RgFL_Jp9",
        "outputId": "f2821924-0cf8-4844-acdc-06d713691c0e"
      },
      "source": [
        "print(\"or\" in \"hello world\")"
      ],
      "execution_count": null,
      "outputs": [
        {
          "output_type": "stream",
          "text": [
            "True\n"
          ],
          "name": "stdout"
        }
      ]
    },
    {
      "cell_type": "code",
      "metadata": {
        "colab": {
          "base_uri": "https://localhost:8080/",
          "height": 35
        },
        "id": "6JafsrSL_bA7",
        "outputId": "68b9a9f1-0241-4946-fee5-2cdb80b0b1b3"
      },
      "source": [
        " \"Hello\".lower()\n",
        "\"Hello\".upper( )"
      ],
      "execution_count": null,
      "outputs": [
        {
          "output_type": "execute_result",
          "data": {
            "application/vnd.google.colaboratory.intrinsic+json": {
              "type": "string"
            },
            "text/plain": [
              "'HELLO'"
            ]
          },
          "metadata": {
            "tags": []
          },
          "execution_count": 52
        }
      ]
    },
    {
      "cell_type": "code",
      "metadata": {
        "colab": {
          "base_uri": "https://localhost:8080/"
        },
        "id": "QYZkcDol_8yh",
        "outputId": "9e99a844-f3aa-4f4f-ecb3-8eae956a3021"
      },
      "source": [
        "\"This will split all words in list\".split()"
      ],
      "execution_count": null,
      "outputs": [
        {
          "output_type": "execute_result",
          "data": {
            "text/plain": [
              "['This', 'will', 'split', 'all', 'words', 'in', 'list']"
            ]
          },
          "metadata": {
            "tags": []
          },
          "execution_count": 53
        }
      ]
    },
    {
      "cell_type": "code",
      "metadata": {
        "colab": {
          "base_uri": "https://localhost:8080/",
          "height": 35
        },
        "id": "hJ_bhZSIAHHf",
        "outputId": "3e2552a5-2685-4e1a-a7d6-599f7882823c"
      },
      "source": [
        "\" \".join(['This', 'will', 'split', 'all', 'words', 'in', 'list'])"
      ],
      "execution_count": null,
      "outputs": [
        {
          "output_type": "execute_result",
          "data": {
            "application/vnd.google.colaboratory.intrinsic+json": {
              "type": "string"
            },
            "text/plain": [
              "'This will split all words in list'"
            ]
          },
          "metadata": {
            "tags": []
          },
          "execution_count": 57
        }
      ]
    },
    {
      "cell_type": "code",
      "metadata": {
        "colab": {
          "base_uri": "https://localhost:8080/"
        },
        "id": "kS55z6RIASnZ",
        "outputId": "44d5f7e6-5764-49f7-883e-614c7d188434"
      },
      "source": [
        "s1 = \"Bad Morning\"\n",
        "s2 = s1.replace(\"Bad\",\"Good\")\n",
        "print(s1)\n",
        "print(s2)"
      ],
      "execution_count": null,
      "outputs": [
        {
          "output_type": "stream",
          "text": [
            "Bad Morning\n",
            "Good Morning\n"
          ],
          "name": "stdout"
        }
      ]
    },
    {
      "cell_type": "code",
      "metadata": {
        "colab": {
          "base_uri": "https://localhost:8080/"
        },
        "id": "KNIeE4r9BjWp",
        "outputId": "fdd2c571-c681-4eab-e8b9-bc69dfabc488"
      },
      "source": [
        "myStr = \"MadaM\"\n",
        "myStr = myStr.lower()\n",
        "revStr = reversed(myStr)\n",
        "if list(myStr) == list(revStr):\n",
        "  print(\"Given String is palindrome\")\n",
        "else:\n",
        "  print(\"Given String is not Palindrome\")"
      ],
      "execution_count": null,
      "outputs": [
        {
          "output_type": "stream",
          "text": [
            "Given String is palindrome\n"
          ],
          "name": "stdout"
        }
      ]
    },
    {
      "cell_type": "code",
      "metadata": {
        "colab": {
          "base_uri": "https://localhost:8080/"
        },
        "id": "L9LxXJ07CrLD",
        "outputId": "409f38d7-b434-4846-b352-9a01c7d6a874"
      },
      "source": [
        "myStr = \"python Program to sort words in Alphabetic Order\"\n",
        "myStr = myStr.split(\" \")\n",
        "myStr.sort()\n",
        "for ele in myStr:\n",
        "  print(ele)\n"
      ],
      "execution_count": null,
      "outputs": [
        {
          "output_type": "stream",
          "text": [
            "Alphabetic\n",
            "Order\n",
            "Program\n",
            "in\n",
            "python\n",
            "sort\n",
            "to\n",
            "words\n"
          ],
          "name": "stdout"
        }
      ]
    }
  ]
}