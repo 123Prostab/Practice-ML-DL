{
  "nbformat": 4,
  "nbformat_minor": 0,
  "metadata": {
    "colab": {
      "name": "Copy of Function.ipynb",
      "provenance": [],
      "collapsed_sections": [],
      "authorship_tag": "ABX9TyMRnLPt0Uayd/pptDgfwXSu",
      "include_colab_link": true
    },
    "kernelspec": {
      "name": "python3",
      "display_name": "Python 3"
    },
    "language_info": {
      "name": "python"
    }
  },
  "cells": [
    {
      "cell_type": "markdown",
      "metadata": {
        "id": "view-in-github",
        "colab_type": "text"
      },
      "source": [
        "<a href=\"https://colab.research.google.com/github/123Prostab/Practice-ML-DL/blob/main/Copy_of_Function.ipynb\" target=\"_parent\"><img src=\"https://colab.research.google.com/assets/colab-badge.svg\" alt=\"Open In Colab\"/></a>"
      ]
    },
    {
      "cell_type": "markdown",
      "metadata": {
        "id": "5urX3_TjI8GI"
      },
      "source": [
        "\n",
        "\n",
        "\n",
        "<h1>Function<h1>\n",
        "\n",
        "\n",
        "\n"
      ]
    },
    {
      "cell_type": "code",
      "metadata": {
        "id": "GKLnqd9JH7fx"
      },
      "source": [
        "def print_name(name):\n",
        "  \"\"\"\n",
        "  This function prints the name\n",
        "  \"\"\"\n",
        "  print(\"Hello \" + str(name))"
      ],
      "execution_count": null,
      "outputs": []
    },
    {
      "cell_type": "code",
      "metadata": {
        "colab": {
          "base_uri": "https://localhost:8080/"
        },
        "id": "R-O2nS33IJQL",
        "outputId": "35d19dd7-4ef3-4e16-d422-b05209d2393e"
      },
      "source": [
        "print_name(\"Prostab\") "
      ],
      "execution_count": null,
      "outputs": [
        {
          "output_type": "stream",
          "text": [
            "Hello Prostab\n"
          ],
          "name": "stdout"
        }
      ]
    },
    {
      "cell_type": "code",
      "metadata": {
        "colab": {
          "base_uri": "https://localhost:8080/",
          "height": 35
        },
        "id": "qawkTHVLI7p7",
        "outputId": "630240f7-7f8f-42d4-e534-68e8bbc80a11"
      },
      "source": [
        "print_name.__doc__#print the doc string"
      ],
      "execution_count": null,
      "outputs": [
        {
          "output_type": "execute_result",
          "data": {
            "application/vnd.google.colaboratory.intrinsic+json": {
              "type": "string"
            },
            "text/plain": [
              "'\\n  This function prints the name\\n  '"
            ]
          },
          "metadata": {
            "tags": []
          },
          "execution_count": 6
        }
      ]
    },
    {
      "cell_type": "code",
      "metadata": {
        "colab": {
          "base_uri": "https://localhost:8080/"
        },
        "id": "U7qqYd79J-kb",
        "outputId": "a43cfee4-eddf-4543-98af-333839bc9b78"
      },
      "source": [
        "def get_sum(lst):\n",
        "  sum = 0\n",
        "  for num in lst:\n",
        "    sum += num\n",
        "  return sum\n",
        "\n",
        "s = get_sum([1,2,3,4]) \n",
        "print(s)\n"
      ],
      "execution_count": null,
      "outputs": [
        {
          "output_type": "stream",
          "text": [
            "10\n"
          ],
          "name": "stdout"
        }
      ]
    },
    {
      "cell_type": "code",
      "metadata": {
        "colab": {
          "base_uri": "https://localhost:8080/"
        },
        "id": "Eidf2mlGK2nO",
        "outputId": "ee58588b-6ee9-4a30-dc5b-45777077f323"
      },
      "source": [
        "#scope and life time of variables\n",
        "global_var = \"This is a global Variabale\"\n",
        "\n",
        "def test_lifetime():\n",
        "  \"\"\"\n",
        "  This function test the life time of variable\n",
        "  \"\"\"\n",
        "  local_var = \"This is local variable\"\n",
        "  print(local_var)\n",
        "  print(global_var)\n",
        "\n",
        "test_lifetime()\n",
        "print(global_var)\n",
        "\n",
        "\n",
        "\n",
        "\n"
      ],
      "execution_count": null,
      "outputs": [
        {
          "output_type": "stream",
          "text": [
            "This is local variable\n",
            "This is a global Variabale\n",
            "This is a global Variabale\n"
          ],
          "name": "stdout"
        }
      ]
    },
    {
      "cell_type": "code",
      "metadata": {
        "id": "LEVUn--KORSS"
      },
      "source": [
        "#Highest Common Factor\n",
        "def computeHCF(a,b):\n",
        "  smaller = b if a > b else a\n",
        "  hcf = 1\n",
        "  for i in range(1,smaller + 1):\n",
        "    if (s % i == 0) and (b % i == 0):\n",
        "      hcf = i\n",
        "  return hcf\n"
      ],
      "execution_count": null,
      "outputs": []
    },
    {
      "cell_type": "code",
      "metadata": {
        "colab": {
          "base_uri": "https://localhost:8080/"
        },
        "id": "HXXADjaiOut2",
        "outputId": "a3dcb8f9-e45c-41c3-9ec2-063d079af533"
      },
      "source": [
        "  num1 = 98\n",
        "  num2 = 78\n",
        "print(\"H.C.F of {0} and {1} is: {2}\".format(num1,num2,computeHCF(num1,num2)))"
      ],
      "execution_count": null,
      "outputs": [
        {
          "output_type": "stream",
          "text": [
            "H.C.F of 98 and 78 is: 2\n"
          ],
          "name": "stdout"
        }
      ]
    }
  ]
}