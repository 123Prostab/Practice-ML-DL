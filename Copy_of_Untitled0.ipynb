{
  "nbformat": 4,
  "nbformat_minor": 0,
  "metadata": {
    "colab": {
      "name": "Copy of Untitled0.ipynb",
      "provenance": [],
      "authorship_tag": "ABX9TyNg96fynIQfrRClPQGe/HO0",
      "include_colab_link": true
    },
    "kernelspec": {
      "name": "python3",
      "display_name": "Python 3"
    },
    "language_info": {
      "name": "python"
    }
  },
  "cells": [
    {
      "cell_type": "markdown",
      "metadata": {
        "id": "view-in-github",
        "colab_type": "text"
      },
      "source": [
        "<a href=\"https://colab.research.google.com/github/123Prostab/Practice-ML-DL/blob/main/Copy_of_Untitled0.ipynb\" target=\"_parent\"><img src=\"https://colab.research.google.com/assets/colab-badge.svg\" alt=\"Open In Colab\"/></a>"
      ]
    },
    {
      "cell_type": "markdown",
      "metadata": {
        "id": "C-ZEzQHHP5fV"
      },
      "source": [
        ""
      ]
    },
    {
      "cell_type": "markdown",
      "metadata": {
        "id": "1n_eseHZQsT_"
      },
      "source": [
        "<h1> **Types Of Functions**<h1>"
      ]
    },
    {
      "cell_type": "code",
      "metadata": {
        "colab": {
          "base_uri": "https://localhost:8080/"
        },
        "id": "HIIu5AmIQzpF",
        "outputId": "f9c31218-8ff0-40f9-cd53-bbe4ee7d8189"
      },
      "source": [
        "#Built-in-Functions\n",
        "#User-defined Functions\n",
        "num = -100\n",
        "print(abs(num))\n"
      ],
      "execution_count": null,
      "outputs": [
        {
          "output_type": "stream",
          "text": [
            "100\n"
          ],
          "name": "stdout"
        }
      ]
    },
    {
      "cell_type": "code",
      "metadata": {
        "colab": {
          "base_uri": "https://localhost:8080/"
        },
        "id": "XtFCrJNVRSPw",
        "outputId": "4dd633aa-79f0-44e2-a7d9-653236d735fa"
      },
      "source": [
        "lst = [1,2,3,4]\n",
        "tup = (0,2,3,4)\n",
        "print(all(lst))\n",
        "print(all(tup))"
      ],
      "execution_count": null,
      "outputs": [
        {
          "output_type": "stream",
          "text": [
            "True\n",
            "False\n"
          ],
          "name": "stdout"
        }
      ]
    },
    {
      "cell_type": "code",
      "metadata": {
        "colab": {
          "base_uri": "https://localhost:8080/"
        },
        "id": "KbSWyVTARwYP",
        "outputId": "8b860a54-0c17-4c65-a868-aeb17c34cf3c"
      },
      "source": [
        "lst = []\n",
        "print(all(lst))"
      ],
      "execution_count": null,
      "outputs": [
        {
          "output_type": "stream",
          "text": [
            "True\n"
          ],
          "name": "stdout"
        }
      ]
    },
    {
      "cell_type": "code",
      "metadata": {
        "id": "zK-fjdbXTfDP"
      },
      "source": [
        ""
      ],
      "execution_count": null,
      "outputs": []
    },
    {
      "cell_type": "code",
      "metadata": {
        "colab": {
          "base_uri": "https://localhost:8080/"
        },
        "id": "zV76qHGVTfZr",
        "outputId": "60dfba79-0127-4e09-d0cc-4dd78cd6f9dc"
      },
      "source": [
        "print(divmod(9,2))"
      ],
      "execution_count": null,
      "outputs": [
        {
          "output_type": "stream",
          "text": [
            "(4, 1)\n"
          ],
          "name": "stdout"
        }
      ]
    },
    {
      "cell_type": "code",
      "metadata": {
        "colab": {
          "base_uri": "https://localhost:8080/"
        },
        "id": "A1pFV3UPTlG-",
        "outputId": "6fc282d7-9b35-43e4-f541-19232dc89d63"
      },
      "source": [
        "numbers = [10,20,30,40]\n",
        "for index,num in enumerate(numbers):\n",
        "  print(f\"{index} has value {num}\")"
      ],
      "execution_count": null,
      "outputs": [
        {
          "output_type": "stream",
          "text": [
            "0 has value 10\n",
            "1 has value 20\n",
            "2 has value 30\n",
            "3 has value 40\n"
          ],
          "name": "stdout"
        }
      ]
    },
    {
      "cell_type": "code",
      "metadata": {
        "colab": {
          "base_uri": "https://localhost:8080/"
        },
        "id": "8UddDMuQR9hd",
        "outputId": "8ca4856a-8535-4e3f-f8ee-dd7d00fa1455"
      },
      "source": [
        "#dir\n",
        "numbers = [1,2,3]\n",
        "\n",
        "print(dir(numbers))"
      ],
      "execution_count": null,
      "outputs": [
        {
          "output_type": "stream",
          "text": [
            "['__add__', '__class__', '__contains__', '__delattr__', '__delitem__', '__dir__', '__doc__', '__eq__', '__format__', '__ge__', '__getattribute__', '__getitem__', '__gt__', '__hash__', '__iadd__', '__imul__', '__init__', '__init_subclass__', '__iter__', '__le__', '__len__', '__lt__', '__mul__', '__ne__', '__new__', '__reduce__', '__reduce_ex__', '__repr__', '__reversed__', '__rmul__', '__setattr__', '__setitem__', '__sizeof__', '__str__', '__subclasshook__', 'append', 'clear', 'copy', 'count', 'extend', 'index', 'insert', 'pop', 'remove', 'reverse', 'sort']\n"
          ],
          "name": "stdout"
        }
      ]
    },
    {
      "cell_type": "code",
      "metadata": {
        "colab": {
          "base_uri": "https://localhost:8080/"
        },
        "id": "xBTkc6bfT7XC",
        "outputId": "5db28f55-cf7a-43cb-a327-2a4ac6aac4d8"
      },
      "source": [
        "numbers = [10,20,30,40]\n",
        "for index,num in enumerate(numbers,5):\n",
        "  print(f\"{index} has value {num}\")"
      ],
      "execution_count": null,
      "outputs": [
        {
          "output_type": "stream",
          "text": [
            "5 has value 10\n",
            "6 has value 20\n",
            "7 has value 30\n",
            "8 has value 40\n"
          ],
          "name": "stdout"
        }
      ]
    },
    {
      "cell_type": "code",
      "metadata": {
        "id": "IO-f1mr7RfNd"
      },
      "source": [
        "#filter\n",
        "def find_positive_number(num):\n",
        "  if num > 0:\n",
        "    return num\n"
      ],
      "execution_count": null,
      "outputs": []
    },
    {
      "cell_type": "code",
      "metadata": {
        "colab": {
          "base_uri": "https://localhost:8080/"
        },
        "id": "Ztx0LOX_UZsQ",
        "outputId": "2d9b14b3-d087-4541-b326-6f4d61ff3419"
      },
      "source": [
        "number_list = range(-10,10)\n",
        "print(list(number_list))\n",
        "positive_number_list = list(filter(find_positive_number,number_list))\n",
        "print(positive_number_list)"
      ],
      "execution_count": null,
      "outputs": [
        {
          "output_type": "stream",
          "text": [
            "[-10, -9, -8, -7, -6, -5, -4, -3, -2, -1, 0, 1, 2, 3, 4, 5, 6, 7, 8, 9]\n",
            "[1, 2, 3, 4, 5, 6, 7, 8, 9]\n"
          ],
          "name": "stdout"
        }
      ]
    },
    {
      "cell_type": "code",
      "metadata": {
        "colab": {
          "base_uri": "https://localhost:8080/"
        },
        "id": "cndwsLLnVNVi",
        "outputId": "91a3926c-17b9-4280-d23a-6531ae955f90"
      },
      "source": [
        "lst = [1,2,3,4]\n",
        "print(isinstance(lst,list))\n",
        "t = (1,2,3,4)\n",
        "print(isinstance(t,list))"
      ],
      "execution_count": null,
      "outputs": [
        {
          "output_type": "stream",
          "text": [
            "True\n",
            "False\n"
          ],
          "name": "stdout"
        }
      ]
    },
    {
      "cell_type": "code",
      "metadata": {
        "colab": {
          "base_uri": "https://localhost:8080/"
        },
        "id": "y8JRvTFCVnGL",
        "outputId": "b4933f56-b3f6-4029-b5fc-b83ad95eb863"
      },
      "source": [
        "#map\n",
        "#square of a list\n",
        "numbers = [1,2,3,4]\n",
        "squared = []\n",
        "for num in numbers:\n",
        "  squared.append(num ** 2)\n",
        "print(squared)"
      ],
      "execution_count": null,
      "outputs": [
        {
          "output_type": "stream",
          "text": [
            "[1, 4, 9, 16]\n"
          ],
          "name": "stdout"
        }
      ]
    },
    {
      "cell_type": "code",
      "metadata": {
        "colab": {
          "base_uri": "https://localhost:8080/"
        },
        "id": "9gHunzWaWE23",
        "outputId": "0a372f15-7f26-4666-e889-a8f857982ac2"
      },
      "source": [
        "numbers = [1,2,3,4]\n",
        "def poweroftwo(num):\n",
        "  return num ** 2\n",
        "squared = list(map(poweroftwo,numbers))\n",
        "print(squared)"
      ],
      "execution_count": null,
      "outputs": [
        {
          "output_type": "stream",
          "text": [
            "[1, 4, 9, 16]\n"
          ],
          "name": "stdout"
        }
      ]
    },
    {
      "cell_type": "code",
      "metadata": {
        "colab": {
          "base_uri": "https://localhost:8080/"
        },
        "id": "xz9roi53Y9Ps",
        "outputId": "11f63a76-c346-4b61-9db9-2c6daac427e4"
      },
      "source": [
        "product = 1\n",
        "lst = [1,2,3,4]\n",
        "\n",
        "for num in lst:\n",
        "  product *= num\n",
        "print(product)"
      ],
      "execution_count": null,
      "outputs": [
        {
          "output_type": "stream",
          "text": [
            "24\n"
          ],
          "name": "stdout"
        }
      ]
    },
    {
      "cell_type": "code",
      "metadata": {
        "colab": {
          "base_uri": "https://localhost:8080/"
        },
        "id": "9Dv1LXyZZPjo",
        "outputId": "5201e7c4-046b-49a6-8909-d64a606a6d51"
      },
      "source": [
        "from functools import reduce\n",
        "def multiply(x,y):\n",
        "  return(x*y)\n",
        "product = reduce(multiply,lst)#rolling computation to sequential pair of values of list\n",
        "print(product)"
      ],
      "execution_count": null,
      "outputs": [
        {
          "output_type": "stream",
          "text": [
            "24\n"
          ],
          "name": "stdout"
        }
      ]
    },
    {
      "cell_type": "code",
      "metadata": {
        "colab": {
          "base_uri": "https://localhost:8080/"
        },
        "id": "541t8ApxZoL5",
        "outputId": "9d288bcb-fd6c-48ec-83ea-bfca890a3c4f"
      },
      "source": [
        "#user defined function\n",
        "def product_numbers(a,b):\n",
        "  product = a * b\n",
        "  return product\n",
        "\n",
        "print(product_numbers(3,4))"
      ],
      "execution_count": null,
      "outputs": [
        {
          "output_type": "stream",
          "text": [
            "12\n"
          ],
          "name": "stdout"
        }
      ]
    },
    {
      "cell_type": "code",
      "metadata": {
        "colab": {
          "base_uri": "https://localhost:8080/"
        },
        "id": "Rz0fJBLravr6",
        "outputId": "1fc777f9-3b8c-47fd-c467-bdc33f7e49a2"
      },
      "source": [
        "#calculator\n",
        "\n",
        "def add(a,b):\n",
        "  return a + b\n",
        "\n",
        "def substract(a,b):\n",
        "  return a - b\n",
        "\n",
        "def multiply(a,b):\n",
        "  return a * b\n",
        "\n",
        "def divison(a,b):\n",
        "  return a / b\n",
        "\n",
        "print(\"Select Option\")\n",
        "print(\"1.Addition\")\n",
        "print(\"2.SUbstraction\")\n",
        "print(\"3.Multiplication\")\n",
        "print(\"4.Division\")\n",
        "choice = int(input(\"enter choice 1/2/3/4 : \"))\n",
        "num1 = int(input(\"enter the first number: \"))\n",
        "num2 = int(input(\"enter the second number: \"))\n",
        "if choice == 1:\n",
        "  print(f\"addition of {num1} and {num2} is {add(num1,num2)}\")\n",
        "elif choice == 2:\n",
        "  print(f\"SUbstraction of {num1} and {num2} is {substract(num1,num2)}\")\n",
        "elif choice == 3:\n",
        "  print(f\"multiply of {num1} and {num2} is {multiply(num1,num2)}\")\n",
        "elif choice == 4:\n",
        "  print(f\"divison of {num1} and {num2} is {divion(num1,num2)}\")\n",
        "else:\n",
        "  print(\"wrong choice\")\n",
        "\n"
      ],
      "execution_count": null,
      "outputs": [
        {
          "output_type": "stream",
          "text": [
            "Select Option\n",
            "1.Addition\n",
            "2.SUbstraction\n",
            "3.Multiplication\n",
            "4.Division\n",
            "enter choice 1/2/3/4 : 5\n",
            "enter the first number: 15\n",
            "enter the second number: 4\n",
            "wrong choice\n"
          ],
          "name": "stdout"
        }
      ]
    },
    {
      "cell_type": "code",
      "metadata": {
        "id": "Bi-LDxUcaH1j"
      },
      "source": [
        ""
      ],
      "execution_count": null,
      "outputs": []
    }
  ]
}