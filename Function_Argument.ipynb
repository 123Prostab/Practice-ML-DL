{
  "nbformat": 4,
  "nbformat_minor": 0,
  "metadata": {
    "colab": {
      "name": "Function_Argument.ipynb",
      "provenance": [],
      "authorship_tag": "ABX9TyPoL/hGXYDKzAoKq2dhm607",
      "include_colab_link": true
    },
    "kernelspec": {
      "name": "python3",
      "display_name": "Python 3"
    },
    "language_info": {
      "name": "python"
    }
  },
  "cells": [
    {
      "cell_type": "markdown",
      "metadata": {
        "id": "view-in-github",
        "colab_type": "text"
      },
      "source": [
        "<a href=\"https://colab.research.google.com/github/123Prostab/Practice-ML-DL/blob/main/Function_Argument.ipynb\" target=\"_parent\"><img src=\"https://colab.research.google.com/assets/colab-badge.svg\" alt=\"Open In Colab\"/></a>"
      ]
    },
    {
      "cell_type": "code",
      "metadata": {
        "colab": {
          "base_uri": "https://localhost:8080/",
          "height": 0
        },
        "id": "a_Okd40aenwl",
        "outputId": "b69a6f68-545e-40b9-b8e2-2456b0c7a6e1"
      },
      "source": [
        "def greet(name,msg):\n",
        "  print(\"hello \" + name + \" \" + msg)\n",
        "greet(\"Prostab\",\"Good Morning\")"
      ],
      "execution_count": 2,
      "outputs": [
        {
          "output_type": "stream",
          "text": [
            "hello Prostab Good Morning\n"
          ],
          "name": "stdout"
        }
      ]
    },
    {
      "cell_type": "code",
      "metadata": {
        "colab": {
          "base_uri": "https://localhost:8080/"
        },
        "id": "aovw8jntfa9T",
        "outputId": "701e47c6-0188-41d4-bf60-50b24ed65d1e"
      },
      "source": [
        "def greet(name,msg = \"good morning\"):\n",
        "  print(\"hello \" + name + \" \" + msg)\n",
        "greet(\"Prostab\")\n",
        "greet(\"Prostab\",\"Good Night\")"
      ],
      "execution_count": 9,
      "outputs": [
        {
          "output_type": "stream",
          "text": [
            "hello Prostab good morning\n",
            "hello Prostab Good Night\n"
          ],
          "name": "stdout"
        }
      ]
    },
    {
      "cell_type": "code",
      "metadata": {
        "id": "NvI7AtMYftzT"
      },
      "source": [
        "def greet(**kwargs):\n",
        "  if kwargs:\n",
        "    print(\"Hello {0} ,{1}\".format(kwargs[\"name\"],kwargs[\"msg\"]))\n",
        "  greet(name=\"prostab\",msg=\"good morning\")\n"
      ],
      "execution_count": 13,
      "outputs": []
    },
    {
      "cell_type": "code",
      "metadata": {
        "colab": {
          "base_uri": "https://localhost:8080/"
        },
        "id": "Qz-TAGNyiJSo",
        "outputId": "e2965dfb-c50d-4fdf-88ad-d67c91649977"
      },
      "source": [
        "def greet(**kwargs):\n",
        "  if kwargs:\n",
        "        print(\"Hello {0} , {1}\".format(kwargs['name'], kwargs['msg']))\n",
        "greet(name=\"prostab\",msg=\"good morning\")\n"
      ],
      "execution_count": 18,
      "outputs": [
        {
          "output_type": "stream",
          "text": [
            "Hello prostab , good morning\n"
          ],
          "name": "stdout"
        }
      ]
    },
    {
      "cell_type": "code",
      "metadata": {
        "colab": {
          "base_uri": "https://localhost:8080/"
        },
        "id": "WXheiWpYipAy",
        "outputId": "e41926bc-403a-4458-abbb-0a99ad0abc54"
      },
      "source": [
        "def greet(*names):\n",
        "    \"\"\"\n",
        "    This function greets all persons in the names tuple \n",
        "    \"\"\"\n",
        "    print(names)\n",
        "    \n",
        "    for name in names:\n",
        "        print(\"Hello,  {0} \".format(name))\n",
        "\n",
        "greet(\"satish\", \"murali\", \"naveen\", \"srikanth\")"
      ],
      "execution_count": 19,
      "outputs": [
        {
          "output_type": "stream",
          "text": [
            "('satish', 'murali', 'naveen', 'srikanth')\n",
            "Hello,  satish \n",
            "Hello,  murali \n",
            "Hello,  naveen \n",
            "Hello,  srikanth \n"
          ],
          "name": "stdout"
        }
      ]
    }
  ]
}