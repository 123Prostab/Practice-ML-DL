{
  "nbformat": 4,
  "nbformat_minor": 0,
  "metadata": {
    "colab": {
      "name": "numpy2.ipynb",
      "provenance": [],
      "collapsed_sections": [],
      "authorship_tag": "ABX9TyPU38RzwMPeGOcNep32WLRd",
      "include_colab_link": true
    },
    "kernelspec": {
      "name": "python3",
      "display_name": "Python 3"
    },
    "language_info": {
      "name": "python"
    }
  },
  "cells": [
    {
      "cell_type": "markdown",
      "metadata": {
        "id": "view-in-github",
        "colab_type": "text"
      },
      "source": [
        "<a href=\"https://colab.research.google.com/github/123Prostab/Practice-ML-DL/blob/main/numpy2.ipynb\" target=\"_parent\"><img src=\"https://colab.research.google.com/assets/colab-badge.svg\" alt=\"Open In Colab\"/></a>"
      ]
    },
    {
      "cell_type": "code",
      "metadata": {
        "id": "TEXIO4kArIiR"
      },
      "source": [
        "import numpy as np"
      ],
      "execution_count": 1,
      "outputs": []
    },
    {
      "cell_type": "code",
      "metadata": {
        "colab": {
          "base_uri": "https://localhost:8080/"
        },
        "id": "QvhRnqiVrOIg",
        "outputId": "f1598278-b405-488b-8759-27fc4462cd27"
      },
      "source": [
        "a = np.array([1,2,3,4])\n",
        "a + 1"
      ],
      "execution_count": 2,
      "outputs": [
        {
          "output_type": "execute_result",
          "data": {
            "text/plain": [
              "array([2, 3, 4, 5])"
            ]
          },
          "metadata": {
            "tags": []
          },
          "execution_count": 2
        }
      ]
    },
    {
      "cell_type": "code",
      "metadata": {
        "colab": {
          "base_uri": "https://localhost:8080/"
        },
        "id": "UNOqW015rZL9",
        "outputId": "01b81426-f6c1-4e55-c4e9-e88ae195de13"
      },
      "source": [
        "a ** 2"
      ],
      "execution_count": 3,
      "outputs": [
        {
          "output_type": "execute_result",
          "data": {
            "text/plain": [
              "array([ 1,  4,  9, 16])"
            ]
          },
          "metadata": {
            "tags": []
          },
          "execution_count": 3
        }
      ]
    },
    {
      "cell_type": "code",
      "metadata": {
        "colab": {
          "base_uri": "https://localhost:8080/"
        },
        "id": "KVQkfhsmrdgd",
        "outputId": "1568ff7a-2b87-4da7-93ad-346da006bdfc"
      },
      "source": [
        "b = np.ones((4,)) + 1 \n",
        "a - b\n"
      ],
      "execution_count": 7,
      "outputs": [
        {
          "output_type": "execute_result",
          "data": {
            "text/plain": [
              "array([-1.,  0.,  1.,  2.])"
            ]
          },
          "metadata": {
            "tags": []
          },
          "execution_count": 7
        }
      ]
    },
    {
      "cell_type": "code",
      "metadata": {
        "colab": {
          "base_uri": "https://localhost:8080/"
        },
        "id": "uVTyn9uYrpk8",
        "outputId": "a5c80480-3bbb-479f-a846-49e416b4a8e8"
      },
      "source": [
        "a * b"
      ],
      "execution_count": 8,
      "outputs": [
        {
          "output_type": "execute_result",
          "data": {
            "text/plain": [
              "array([2., 4., 6., 8.])"
            ]
          },
          "metadata": {
            "tags": []
          },
          "execution_count": 8
        }
      ]
    },
    {
      "cell_type": "code",
      "metadata": {
        "colab": {
          "base_uri": "https://localhost:8080/"
        },
        "id": "EuMCjsAKr5Nk",
        "outputId": "189245ed-e253-4740-befa-0f3b72bea7ec"
      },
      "source": [
        "c = np.diag([1,2,3,4])\n",
        "print(c * c)\n",
        "print(\"***************\")\n",
        "print(c.dot(c))"
      ],
      "execution_count": 10,
      "outputs": [
        {
          "output_type": "stream",
          "text": [
            "[[ 1  0  0  0]\n",
            " [ 0  4  0  0]\n",
            " [ 0  0  9  0]\n",
            " [ 0  0  0 16]]\n",
            "***************\n",
            "[[ 1  0  0  0]\n",
            " [ 0  4  0  0]\n",
            " [ 0  0  9  0]\n",
            " [ 0  0  0 16]]\n"
          ],
          "name": "stdout"
        }
      ]
    },
    {
      "cell_type": "code",
      "metadata": {
        "colab": {
          "base_uri": "https://localhost:8080/"
        },
        "id": "G7944gXasLuo",
        "outputId": "f46019d1-ffd0-42cf-bf39-00ff3c91595c"
      },
      "source": [
        "a = np.array([1,2,3,4])\n",
        "b = np.array([5,2,2,4])\n",
        "a == b\n"
      ],
      "execution_count": 11,
      "outputs": [
        {
          "output_type": "execute_result",
          "data": {
            "text/plain": [
              "array([False,  True, False,  True])"
            ]
          },
          "metadata": {
            "tags": []
          },
          "execution_count": 11
        }
      ]
    },
    {
      "cell_type": "code",
      "metadata": {
        "colab": {
          "base_uri": "https://localhost:8080/"
        },
        "id": "wGY9PDNxs4sx",
        "outputId": "df02d626-eaaf-47da-c1cd-4bc639d888f3"
      },
      "source": [
        "a > b"
      ],
      "execution_count": 12,
      "outputs": [
        {
          "output_type": "execute_result",
          "data": {
            "text/plain": [
              "array([False, False,  True, False])"
            ]
          },
          "metadata": {
            "tags": []
          },
          "execution_count": 12
        }
      ]
    },
    {
      "cell_type": "code",
      "metadata": {
        "colab": {
          "base_uri": "https://localhost:8080/"
        },
        "id": "PfG3du6ls6NO",
        "outputId": "83a8940d-ea23-4983-c275-e357732a259c"
      },
      "source": [
        "a = np.array([1,2,3,4])\n",
        "b = np.array([5,2,2,4])\n",
        "c = np.array([1,2,3,4])\n",
        "np.array_equal(a,b)"
      ],
      "execution_count": 13,
      "outputs": [
        {
          "output_type": "execute_result",
          "data": {
            "text/plain": [
              "False"
            ]
          },
          "metadata": {
            "tags": []
          },
          "execution_count": 13
        }
      ]
    },
    {
      "cell_type": "code",
      "metadata": {
        "colab": {
          "base_uri": "https://localhost:8080/"
        },
        "id": "wL0nE_6Rtmaa",
        "outputId": "cefa7ff8-bbf0-45f9-b6fe-6a21f49a8382"
      },
      "source": [
        "np.array_equal(a,c)"
      ],
      "execution_count": 14,
      "outputs": [
        {
          "output_type": "execute_result",
          "data": {
            "text/plain": [
              "True"
            ]
          },
          "metadata": {
            "tags": []
          },
          "execution_count": 14
        }
      ]
    },
    {
      "cell_type": "code",
      "metadata": {
        "colab": {
          "base_uri": "https://localhost:8080/"
        },
        "id": "t5zHefeotvn5",
        "outputId": "2ab8616d-b51c-4b81-aef1-9225c4ed75b0"
      },
      "source": [
        "a = np.array([1,1,0,0],dtype=bool)\n",
        "b = np.array([1,1,0,0],dtype=bool)\n",
        "np.logical_or(a,b)"
      ],
      "execution_count": 15,
      "outputs": [
        {
          "output_type": "execute_result",
          "data": {
            "text/plain": [
              "array([ True,  True, False, False])"
            ]
          },
          "metadata": {
            "tags": []
          },
          "execution_count": 15
        }
      ]
    },
    {
      "cell_type": "code",
      "metadata": {
        "colab": {
          "base_uri": "https://localhost:8080/"
        },
        "id": "kzIhzF-yuD08",
        "outputId": "f10ee310-0d04-4a33-8106-662c0990e0fa"
      },
      "source": [
        "np.logical_and(a,b)"
      ],
      "execution_count": 16,
      "outputs": [
        {
          "output_type": "execute_result",
          "data": {
            "text/plain": [
              "array([ True,  True, False, False])"
            ]
          },
          "metadata": {
            "tags": []
          },
          "execution_count": 16
        }
      ]
    },
    {
      "cell_type": "code",
      "metadata": {
        "colab": {
          "base_uri": "https://localhost:8080/"
        },
        "id": "I3SrqN2DuG8_",
        "outputId": "46a51ebc-6399-413d-9207-735f078b8649"
      },
      "source": [
        "a = np.arange(5)\n",
        "np.sin(a)"
      ],
      "execution_count": 17,
      "outputs": [
        {
          "output_type": "execute_result",
          "data": {
            "text/plain": [
              "array([ 0.        ,  0.84147098,  0.90929743,  0.14112001, -0.7568025 ])"
            ]
          },
          "metadata": {
            "tags": []
          },
          "execution_count": 17
        }
      ]
    },
    {
      "cell_type": "code",
      "metadata": {
        "colab": {
          "base_uri": "https://localhost:8080/"
        },
        "id": "Cm6ylRDIuU27",
        "outputId": "74827fd7-1511-4cfb-85a0-0e01787cb4ad"
      },
      "source": [
        "np.log(a)"
      ],
      "execution_count": 18,
      "outputs": [
        {
          "output_type": "stream",
          "text": [
            "/usr/local/lib/python3.7/dist-packages/ipykernel_launcher.py:1: RuntimeWarning: divide by zero encountered in log\n",
            "  \"\"\"Entry point for launching an IPython kernel.\n"
          ],
          "name": "stderr"
        },
        {
          "output_type": "execute_result",
          "data": {
            "text/plain": [
              "array([      -inf, 0.        , 0.69314718, 1.09861229, 1.38629436])"
            ]
          },
          "metadata": {
            "tags": []
          },
          "execution_count": 18
        }
      ]
    },
    {
      "cell_type": "code",
      "metadata": {
        "colab": {
          "base_uri": "https://localhost:8080/"
        },
        "id": "PW4Ev8KPuYW4",
        "outputId": "2652423d-3f46-46b9-9177-a6734008176a"
      },
      "source": [
        "np.exp(a)"
      ],
      "execution_count": 19,
      "outputs": [
        {
          "output_type": "execute_result",
          "data": {
            "text/plain": [
              "array([ 1.        ,  2.71828183,  7.3890561 , 20.08553692, 54.59815003])"
            ]
          },
          "metadata": {
            "tags": []
          },
          "execution_count": 19
        }
      ]
    },
    {
      "cell_type": "code",
      "metadata": {
        "colab": {
          "base_uri": "https://localhost:8080/",
          "height": 180
        },
        "id": "MkqIcvJhucHC",
        "outputId": "c49820d1-ce08-4669-9986-4ab69a905c05"
      },
      "source": [
        "a = np.arange(4)\n",
        "a + np.array([1,2])"
      ],
      "execution_count": 20,
      "outputs": [
        {
          "output_type": "error",
          "ename": "ValueError",
          "evalue": "ignored",
          "traceback": [
            "\u001b[0;31m---------------------------------------------------------------------------\u001b[0m",
            "\u001b[0;31mValueError\u001b[0m                                Traceback (most recent call last)",
            "\u001b[0;32m<ipython-input-20-cf0a6e60a4f5>\u001b[0m in \u001b[0;36m<module>\u001b[0;34m()\u001b[0m\n\u001b[1;32m      1\u001b[0m \u001b[0ma\u001b[0m \u001b[0;34m=\u001b[0m \u001b[0mnp\u001b[0m\u001b[0;34m.\u001b[0m\u001b[0marange\u001b[0m\u001b[0;34m(\u001b[0m\u001b[0;36m4\u001b[0m\u001b[0;34m)\u001b[0m\u001b[0;34m\u001b[0m\u001b[0;34m\u001b[0m\u001b[0m\n\u001b[0;32m----> 2\u001b[0;31m \u001b[0ma\u001b[0m \u001b[0;34m+\u001b[0m \u001b[0mnp\u001b[0m\u001b[0;34m.\u001b[0m\u001b[0marray\u001b[0m\u001b[0;34m(\u001b[0m\u001b[0;34m[\u001b[0m\u001b[0;36m1\u001b[0m\u001b[0;34m,\u001b[0m\u001b[0;36m2\u001b[0m\u001b[0;34m]\u001b[0m\u001b[0;34m)\u001b[0m\u001b[0;34m\u001b[0m\u001b[0;34m\u001b[0m\u001b[0m\n\u001b[0m",
            "\u001b[0;31mValueError\u001b[0m: operands could not be broadcast together with shapes (4,) (2,) "
          ]
        }
      ]
    },
    {
      "cell_type": "code",
      "metadata": {
        "colab": {
          "base_uri": "https://localhost:8080/"
        },
        "id": "Hn3letpiuo_w",
        "outputId": "d45c1143-709f-41bd-db31-1e845fea2e85"
      },
      "source": [
        "x = np.array([1,2,3,4])\n",
        "np.sum(x)\n"
      ],
      "execution_count": 21,
      "outputs": [
        {
          "output_type": "execute_result",
          "data": {
            "text/plain": [
              "10"
            ]
          },
          "metadata": {
            "tags": []
          },
          "execution_count": 21
        }
      ]
    },
    {
      "cell_type": "code",
      "metadata": {
        "colab": {
          "base_uri": "https://localhost:8080/"
        },
        "id": "ZOlML3Geu8Fm",
        "outputId": "ac3a9964-8c20-4693-eafb-67c29c04e4ce"
      },
      "source": [
        "x = np.array([[1,1],[2,2]])\n",
        "x"
      ],
      "execution_count": 23,
      "outputs": [
        {
          "output_type": "execute_result",
          "data": {
            "text/plain": [
              "array([[1, 1],\n",
              "       [2, 2]])"
            ]
          },
          "metadata": {
            "tags": []
          },
          "execution_count": 23
        }
      ]
    },
    {
      "cell_type": "code",
      "metadata": {
        "colab": {
          "base_uri": "https://localhost:8080/"
        },
        "id": "dzp_8l4lvEdX",
        "outputId": "b286b7bf-7270-4fb1-9540-4d3c09209b7f"
      },
      "source": [
        "x.sum(axis = 0)\n"
      ],
      "execution_count": 24,
      "outputs": [
        {
          "output_type": "execute_result",
          "data": {
            "text/plain": [
              "array([3, 3])"
            ]
          },
          "metadata": {
            "tags": []
          },
          "execution_count": 24
        }
      ]
    },
    {
      "cell_type": "code",
      "metadata": {
        "colab": {
          "base_uri": "https://localhost:8080/"
        },
        "id": "FO7PsKfSvr7y",
        "outputId": "91d1b496-e22d-416d-acf4-5af385f13fbe"
      },
      "source": [
        "x.sum(axis = 1)"
      ],
      "execution_count": 25,
      "outputs": [
        {
          "output_type": "execute_result",
          "data": {
            "text/plain": [
              "array([2, 4])"
            ]
          },
          "metadata": {
            "tags": []
          },
          "execution_count": 25
        }
      ]
    },
    {
      "cell_type": "code",
      "metadata": {
        "id": "smPUnRdQvxOT"
      },
      "source": [
        "x = np.array([1,3,2])"
      ],
      "execution_count": 26,
      "outputs": []
    },
    {
      "cell_type": "code",
      "metadata": {
        "colab": {
          "base_uri": "https://localhost:8080/"
        },
        "id": "9YonIg3Wv5NT",
        "outputId": "515128bf-a900-405e-8f5b-cac5af6e07da"
      },
      "source": [
        "x.min()"
      ],
      "execution_count": 27,
      "outputs": [
        {
          "output_type": "execute_result",
          "data": {
            "text/plain": [
              "1"
            ]
          },
          "metadata": {
            "tags": []
          },
          "execution_count": 27
        }
      ]
    },
    {
      "cell_type": "code",
      "metadata": {
        "colab": {
          "base_uri": "https://localhost:8080/"
        },
        "id": "rqqh0KXtv-o3",
        "outputId": "ab73f827-4875-4efc-9077-1dad51558bb3"
      },
      "source": [
        "x.max()"
      ],
      "execution_count": 28,
      "outputs": [
        {
          "output_type": "execute_result",
          "data": {
            "text/plain": [
              "3"
            ]
          },
          "metadata": {
            "tags": []
          },
          "execution_count": 28
        }
      ]
    },
    {
      "cell_type": "code",
      "metadata": {
        "colab": {
          "base_uri": "https://localhost:8080/"
        },
        "id": "eIvJdpU3wC4R",
        "outputId": "3ca8ff75-6011-406b-cd2d-1d6afc909ed4"
      },
      "source": [
        "x.argmax()"
      ],
      "execution_count": 29,
      "outputs": [
        {
          "output_type": "execute_result",
          "data": {
            "text/plain": [
              "1"
            ]
          },
          "metadata": {
            "tags": []
          },
          "execution_count": 29
        }
      ]
    },
    {
      "cell_type": "code",
      "metadata": {
        "colab": {
          "base_uri": "https://localhost:8080/"
        },
        "id": "eFhkMJelwIAM",
        "outputId": "99f39acc-a587-415b-8039-0f225f76720d"
      },
      "source": [
        "x.argmin()"
      ],
      "execution_count": 30,
      "outputs": [
        {
          "output_type": "execute_result",
          "data": {
            "text/plain": [
              "0"
            ]
          },
          "metadata": {
            "tags": []
          },
          "execution_count": 30
        }
      ]
    },
    {
      "cell_type": "code",
      "metadata": {
        "colab": {
          "base_uri": "https://localhost:8080/"
        },
        "id": "Q-QQ1XHowKuy",
        "outputId": "faf49baa-4b9e-4196-97cd-85e755bcb790"
      },
      "source": [
        "np.all([True,True,False])"
      ],
      "execution_count": 32,
      "outputs": [
        {
          "output_type": "execute_result",
          "data": {
            "text/plain": [
              "False"
            ]
          },
          "metadata": {
            "tags": []
          },
          "execution_count": 32
        }
      ]
    },
    {
      "cell_type": "code",
      "metadata": {
        "colab": {
          "base_uri": "https://localhost:8080/"
        },
        "id": "NGqYFpVlwd1G",
        "outputId": "69cf2517-662e-4053-9d4c-a25376cb969a"
      },
      "source": [
        "np.any([True,False,False])\n"
      ],
      "execution_count": 33,
      "outputs": [
        {
          "output_type": "execute_result",
          "data": {
            "text/plain": [
              "True"
            ]
          },
          "metadata": {
            "tags": []
          },
          "execution_count": 33
        }
      ]
    },
    {
      "cell_type": "code",
      "metadata": {
        "colab": {
          "base_uri": "https://localhost:8080/"
        },
        "id": "f09-1h7owm4F",
        "outputId": "0d226dfb-29f8-40d8-82ed-649a22b674d3"
      },
      "source": [
        "a = np.zeros((50,50))\n",
        "np.any(a != 0)\n"
      ],
      "execution_count": 35,
      "outputs": [
        {
          "output_type": "execute_result",
          "data": {
            "text/plain": [
              "False"
            ]
          },
          "metadata": {
            "tags": []
          },
          "execution_count": 35
        }
      ]
    },
    {
      "cell_type": "code",
      "metadata": {
        "colab": {
          "base_uri": "https://localhost:8080/"
        },
        "id": "VP65Iyp5w5kC",
        "outputId": "55d62e40-919d-4bd9-c41e-08890f84123e"
      },
      "source": [
        "np.all(a == a )"
      ],
      "execution_count": 36,
      "outputs": [
        {
          "output_type": "execute_result",
          "data": {
            "text/plain": [
              "True"
            ]
          },
          "metadata": {
            "tags": []
          },
          "execution_count": 36
        }
      ]
    },
    {
      "cell_type": "code",
      "metadata": {
        "colab": {
          "base_uri": "https://localhost:8080/"
        },
        "id": "N3K-2NEcw9gD",
        "outputId": "a7e96ad9-edf7-4f4c-acf3-f52c373ba5cc"
      },
      "source": [
        "a = np.array([1,2,3,2])\n",
        "b = np.array([2,2,3,2])\n",
        "c = np.array([6,4,4,5])\n",
        "((a <= b) & (b <= c)).all()"
      ],
      "execution_count": 37,
      "outputs": [
        {
          "output_type": "execute_result",
          "data": {
            "text/plain": [
              "True"
            ]
          },
          "metadata": {
            "tags": []
          },
          "execution_count": 37
        }
      ]
    },
    {
      "cell_type": "code",
      "metadata": {
        "colab": {
          "base_uri": "https://localhost:8080/"
        },
        "id": "bKw2PAvTxtZK",
        "outputId": "b44bbefd-431f-4f67-870f-d147ad3ee1c4"
      },
      "source": [
        "x = np.array([1, 2, 3, 1])\n",
        "y = np.array([[1, 2, 3], [5, 6, 1]])\n",
        "x.mean()"
      ],
      "execution_count": 38,
      "outputs": [
        {
          "output_type": "execute_result",
          "data": {
            "text/plain": [
              "1.75"
            ]
          },
          "metadata": {
            "tags": []
          },
          "execution_count": 38
        }
      ]
    },
    {
      "cell_type": "code",
      "metadata": {
        "colab": {
          "base_uri": "https://localhost:8080/"
        },
        "id": "Dzej2iRVx8Z6",
        "outputId": "ead441f0-4f8c-469a-b196-f7fcd22318a7"
      },
      "source": [
        "np.median(x)"
      ],
      "execution_count": 39,
      "outputs": [
        {
          "output_type": "execute_result",
          "data": {
            "text/plain": [
              "1.5"
            ]
          },
          "metadata": {
            "tags": []
          },
          "execution_count": 39
        }
      ]
    },
    {
      "cell_type": "code",
      "metadata": {
        "colab": {
          "base_uri": "https://localhost:8080/"
        },
        "id": "fGoWOUDgyGEl",
        "outputId": "c9194cb4-be84-49c5-c262-9de69752ad0e"
      },
      "source": [
        "np.median(y,axis = 1)"
      ],
      "execution_count": 40,
      "outputs": [
        {
          "output_type": "execute_result",
          "data": {
            "text/plain": [
              "array([2., 5.])"
            ]
          },
          "metadata": {
            "tags": []
          },
          "execution_count": 40
        }
      ]
    },
    {
      "cell_type": "code",
      "metadata": {
        "colab": {
          "base_uri": "https://localhost:8080/"
        },
        "id": "7CyqiWWEyQnM",
        "outputId": "5fe5628f-b730-4446-913d-a024db74c826"
      },
      "source": [
        "x.std()"
      ],
      "execution_count": 41,
      "outputs": [
        {
          "output_type": "execute_result",
          "data": {
            "text/plain": [
              "0.82915619758885"
            ]
          },
          "metadata": {
            "tags": []
          },
          "execution_count": 41
        }
      ]
    },
    {
      "cell_type": "code",
      "metadata": {
        "id": "iKfPWUGxySlu"
      },
      "source": [
        "data = np.loadtxt('populations.txt')"
      ],
      "execution_count": 43,
      "outputs": []
    },
    {
      "cell_type": "code",
      "metadata": {
        "colab": {
          "base_uri": "https://localhost:8080/"
        },
        "id": "dlxuNnuPz8uO",
        "outputId": "6275ef17-e649-4588-8134-facdf3a98287"
      },
      "source": [
        "data"
      ],
      "execution_count": 44,
      "outputs": [
        {
          "output_type": "execute_result",
          "data": {
            "text/plain": [
              "array([[ 1900., 30000.,  4000., 48300.],\n",
              "       [ 1901., 47200.,  6100., 48200.],\n",
              "       [ 1902., 70200.,  9800., 41500.],\n",
              "       [ 1903., 77400., 35200., 38200.],\n",
              "       [ 1904., 36300., 59400., 40600.],\n",
              "       [ 1905., 20600., 41700., 39800.],\n",
              "       [ 1906., 18100., 19000., 38600.],\n",
              "       [ 1907., 21400., 13000., 42300.],\n",
              "       [ 1908., 22000.,  8300., 44500.],\n",
              "       [ 1909., 25400.,  9100., 42100.],\n",
              "       [ 1910., 27100.,  7400., 46000.],\n",
              "       [ 1911., 40300.,  8000., 46800.],\n",
              "       [ 1912., 57000., 12300., 43800.],\n",
              "       [ 1913., 76600., 19500., 40900.],\n",
              "       [ 1914., 52300., 45700., 39400.],\n",
              "       [ 1915., 19500., 51100., 39000.],\n",
              "       [ 1916., 11200., 29700., 36700.],\n",
              "       [ 1917.,  7600., 15800., 41800.],\n",
              "       [ 1918., 14600.,  9700., 43300.],\n",
              "       [ 1919., 16200., 10100., 41300.],\n",
              "       [ 1920., 24700.,  8600., 47300.]])"
            ]
          },
          "metadata": {
            "tags": []
          },
          "execution_count": 44
        }
      ]
    },
    {
      "cell_type": "code",
      "metadata": {
        "colab": {
          "base_uri": "https://localhost:8080/"
        },
        "id": "SLM0ySfd2t_6",
        "outputId": "4c1043f7-e3f1-42b9-8b7c-4bcac414a3f4"
      },
      "source": [
        "year,hares,lynxes, carrots = data.T\n",
        "year"
      ],
      "execution_count": 45,
      "outputs": [
        {
          "output_type": "execute_result",
          "data": {
            "text/plain": [
              "array([1900., 1901., 1902., 1903., 1904., 1905., 1906., 1907., 1908.,\n",
              "       1909., 1910., 1911., 1912., 1913., 1914., 1915., 1916., 1917.,\n",
              "       1918., 1919., 1920.])"
            ]
          },
          "metadata": {
            "tags": []
          },
          "execution_count": 45
        }
      ]
    },
    {
      "cell_type": "code",
      "metadata": {
        "colab": {
          "base_uri": "https://localhost:8080/"
        },
        "id": "YU9ixtFq26Nv",
        "outputId": "d21a01bb-6072-4a59-ce11-0e45c21ad19d"
      },
      "source": [
        "populations = data[:,1:]\n",
        "populations"
      ],
      "execution_count": 46,
      "outputs": [
        {
          "output_type": "execute_result",
          "data": {
            "text/plain": [
              "array([[30000.,  4000., 48300.],\n",
              "       [47200.,  6100., 48200.],\n",
              "       [70200.,  9800., 41500.],\n",
              "       [77400., 35200., 38200.],\n",
              "       [36300., 59400., 40600.],\n",
              "       [20600., 41700., 39800.],\n",
              "       [18100., 19000., 38600.],\n",
              "       [21400., 13000., 42300.],\n",
              "       [22000.,  8300., 44500.],\n",
              "       [25400.,  9100., 42100.],\n",
              "       [27100.,  7400., 46000.],\n",
              "       [40300.,  8000., 46800.],\n",
              "       [57000., 12300., 43800.],\n",
              "       [76600., 19500., 40900.],\n",
              "       [52300., 45700., 39400.],\n",
              "       [19500., 51100., 39000.],\n",
              "       [11200., 29700., 36700.],\n",
              "       [ 7600., 15800., 41800.],\n",
              "       [14600.,  9700., 43300.],\n",
              "       [16200., 10100., 41300.],\n",
              "       [24700.,  8600., 47300.]])"
            ]
          },
          "metadata": {
            "tags": []
          },
          "execution_count": 46
        }
      ]
    },
    {
      "cell_type": "code",
      "metadata": {
        "colab": {
          "base_uri": "https://localhost:8080/"
        },
        "id": "XqDscGFL3JYh",
        "outputId": "e3e6157f-e46c-4b13-eddb-15111f9556c4"
      },
      "source": [
        "populations.std(axis = 0)\n"
      ],
      "execution_count": 47,
      "outputs": [
        {
          "output_type": "execute_result",
          "data": {
            "text/plain": [
              "array([20897.90645809, 16254.59153691,  3322.50622558])"
            ]
          },
          "metadata": {
            "tags": []
          },
          "execution_count": 47
        }
      ]
    },
    {
      "cell_type": "code",
      "metadata": {
        "colab": {
          "base_uri": "https://localhost:8080/"
        },
        "id": "nbzIdOXn3tQn",
        "outputId": "7ed1427a-19a9-49ca-d2fa-ffed24168f49"
      },
      "source": [
        "np.argmax(populations,axis = 1)"
      ],
      "execution_count": 48,
      "outputs": [
        {
          "output_type": "execute_result",
          "data": {
            "text/plain": [
              "array([2, 2, 0, 0, 1, 1, 2, 2, 2, 2, 2, 2, 0, 0, 0, 1, 2, 2, 2, 2, 2])"
            ]
          },
          "metadata": {
            "tags": []
          },
          "execution_count": 48
        }
      ]
    },
    {
      "cell_type": "code",
      "metadata": {
        "colab": {
          "base_uri": "https://localhost:8080/"
        },
        "id": "4pGwHB8F39ap",
        "outputId": "13c70116-605c-4059-fc7e-27e35a0cb73c"
      },
      "source": [
        "a = np.tile(np.arange(0,40,10),(3,1))\n",
        "print(a)\n",
        "print(\"***************\")\n",
        "a = a.T\n",
        "print(a)"
      ],
      "execution_count": 50,
      "outputs": [
        {
          "output_type": "stream",
          "text": [
            "[[ 0 10 20 30]\n",
            " [ 0 10 20 30]\n",
            " [ 0 10 20 30]]\n",
            "***************\n",
            "[[ 0  0  0]\n",
            " [10 10 10]\n",
            " [20 20 20]\n",
            " [30 30 30]]\n"
          ],
          "name": "stdout"
        }
      ]
    },
    {
      "cell_type": "code",
      "metadata": {
        "colab": {
          "base_uri": "https://localhost:8080/"
        },
        "id": "ond7sC5m39_q",
        "outputId": "97e1b4a6-872b-4b24-e7ce-7d2ade74d14e"
      },
      "source": [
        "b = np.array([0,1,2])\n",
        "a + b"
      ],
      "execution_count": 51,
      "outputs": [
        {
          "output_type": "execute_result",
          "data": {
            "text/plain": [
              "array([[ 0,  1,  2],\n",
              "       [10, 11, 12],\n",
              "       [20, 21, 22],\n",
              "       [30, 31, 32]])"
            ]
          },
          "metadata": {
            "tags": []
          },
          "execution_count": 51
        }
      ]
    },
    {
      "cell_type": "code",
      "metadata": {
        "colab": {
          "base_uri": "https://localhost:8080/"
        },
        "id": "ruAUaQse5Frj",
        "outputId": "145a4f29-44c9-4f71-f522-46fa9653580c"
      },
      "source": [
        "a = np.arange(0,40,10)\n",
        "a.shape"
      ],
      "execution_count": 53,
      "outputs": [
        {
          "output_type": "execute_result",
          "data": {
            "text/plain": [
              "(4,)"
            ]
          },
          "metadata": {
            "tags": []
          },
          "execution_count": 53
        }
      ]
    },
    {
      "cell_type": "code",
      "metadata": {
        "colab": {
          "base_uri": "https://localhost:8080/"
        },
        "id": "OVEDrai7HrZE",
        "outputId": "20cf7b18-1490-4304-ddf2-4d54257e7d2b"
      },
      "source": [
        "a = a [:,np.newaxis]\n",
        "a.shape"
      ],
      "execution_count": 54,
      "outputs": [
        {
          "output_type": "execute_result",
          "data": {
            "text/plain": [
              "(4, 1)"
            ]
          },
          "metadata": {
            "tags": []
          },
          "execution_count": 54
        }
      ]
    },
    {
      "cell_type": "code",
      "metadata": {
        "colab": {
          "base_uri": "https://localhost:8080/"
        },
        "id": "aw1obJdcH2xa",
        "outputId": "92157151-d408-4af4-8cdc-da6dfd216188"
      },
      "source": [
        "a"
      ],
      "execution_count": 55,
      "outputs": [
        {
          "output_type": "execute_result",
          "data": {
            "text/plain": [
              "array([[ 0],\n",
              "       [10],\n",
              "       [20],\n",
              "       [30]])"
            ]
          },
          "metadata": {
            "tags": []
          },
          "execution_count": 55
        }
      ]
    },
    {
      "cell_type": "code",
      "metadata": {
        "colab": {
          "base_uri": "https://localhost:8080/"
        },
        "id": "-JzI-K48H61t",
        "outputId": "c9746813-fc46-4692-897a-3c7789f90f3f"
      },
      "source": [
        "a + b"
      ],
      "execution_count": 56,
      "outputs": [
        {
          "output_type": "execute_result",
          "data": {
            "text/plain": [
              "array([[ 0,  1,  2],\n",
              "       [10, 11, 12],\n",
              "       [20, 21, 22],\n",
              "       [30, 31, 32]])"
            ]
          },
          "metadata": {
            "tags": []
          },
          "execution_count": 56
        }
      ]
    },
    {
      "cell_type": "code",
      "metadata": {
        "colab": {
          "base_uri": "https://localhost:8080/"
        },
        "id": "hJ2nkpGYH80x",
        "outputId": "3809fb84-9db7-48a4-f39d-66c77503f73a"
      },
      "source": [
        "a = np.array([[1,2,3],[4,5,6]])\n",
        "a.ravel()"
      ],
      "execution_count": 57,
      "outputs": [
        {
          "output_type": "execute_result",
          "data": {
            "text/plain": [
              "array([1, 2, 3, 4, 5, 6])"
            ]
          },
          "metadata": {
            "tags": []
          },
          "execution_count": 57
        }
      ]
    },
    {
      "cell_type": "code",
      "metadata": {
        "colab": {
          "base_uri": "https://localhost:8080/"
        },
        "id": "feN4-8pEIOJa",
        "outputId": "c552fcb1-1ef5-4cdc-d828-5bc52229d3bb"
      },
      "source": [
        "a.T"
      ],
      "execution_count": 59,
      "outputs": [
        {
          "output_type": "execute_result",
          "data": {
            "text/plain": [
              "array([[1, 4],\n",
              "       [2, 5],\n",
              "       [3, 6]])"
            ]
          },
          "metadata": {
            "tags": []
          },
          "execution_count": 59
        }
      ]
    },
    {
      "cell_type": "code",
      "metadata": {
        "colab": {
          "base_uri": "https://localhost:8080/"
        },
        "id": "l2pdWJwiIeaC",
        "outputId": "0c1079c5-9cce-4b8a-8b17-c5420f94d3b8"
      },
      "source": [
        "a.T.ravel()"
      ],
      "execution_count": 60,
      "outputs": [
        {
          "output_type": "execute_result",
          "data": {
            "text/plain": [
              "array([1, 4, 2, 5, 3, 6])"
            ]
          },
          "metadata": {
            "tags": []
          },
          "execution_count": 60
        }
      ]
    },
    {
      "cell_type": "code",
      "metadata": {
        "colab": {
          "base_uri": "https://localhost:8080/"
        },
        "id": "u00HOyYrIiTI",
        "outputId": "d5eb311f-6d64-49a7-adf3-71287bb31be4"
      },
      "source": [
        "print(a.shape)\n",
        "print(a)"
      ],
      "execution_count": 61,
      "outputs": [
        {
          "output_type": "stream",
          "text": [
            "(2, 3)\n",
            "[[1 2 3]\n",
            " [4 5 6]]\n"
          ],
          "name": "stdout"
        }
      ]
    },
    {
      "cell_type": "code",
      "metadata": {
        "colab": {
          "base_uri": "https://localhost:8080/"
        },
        "id": "N4dq8x3BItuC",
        "outputId": "0d372dd6-e8dc-4c67-e4fe-e7cff43922d6"
      },
      "source": [
        "b = a.ravel()\n",
        "print(b)"
      ],
      "execution_count": 62,
      "outputs": [
        {
          "output_type": "stream",
          "text": [
            "[1 2 3 4 5 6]\n"
          ],
          "name": "stdout"
        }
      ]
    },
    {
      "cell_type": "code",
      "metadata": {
        "colab": {
          "base_uri": "https://localhost:8080/"
        },
        "id": "DLqQ378AI_jj",
        "outputId": "77415ec9-f009-4e4d-c819-bf88781cf812"
      },
      "source": [
        "b = b.reshape((2,3))\n",
        "b"
      ],
      "execution_count": 63,
      "outputs": [
        {
          "output_type": "execute_result",
          "data": {
            "text/plain": [
              "array([[1, 2, 3],\n",
              "       [4, 5, 6]])"
            ]
          },
          "metadata": {
            "tags": []
          },
          "execution_count": 63
        }
      ]
    }
  ]
}