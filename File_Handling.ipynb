{
  "nbformat": 4,
  "nbformat_minor": 0,
  "metadata": {
    "colab": {
      "name": "File_Handling.ipynb",
      "provenance": [],
      "authorship_tag": "ABX9TyOkL1Va6DTpJtsAv3Xdy75e",
      "include_colab_link": true
    },
    "kernelspec": {
      "name": "python3",
      "display_name": "Python 3"
    },
    "language_info": {
      "name": "python"
    }
  },
  "cells": [
    {
      "cell_type": "markdown",
      "metadata": {
        "id": "view-in-github",
        "colab_type": "text"
      },
      "source": [
        "<a href=\"https://colab.research.google.com/github/123Prostab/Practice-ML-DL/blob/main/File_Handling.ipynb\" target=\"_parent\"><img src=\"https://colab.research.google.com/assets/colab-badge.svg\" alt=\"Open In Colab\"/></a>"
      ]
    },
    {
      "cell_type": "code",
      "metadata": {
        "id": "hLRkhcAqatpw"
      },
      "source": [
        "try:\n",
        "  f = open(\"test.txt\",\"w\")\n",
        "  f.write(\"this is a new file\")\n",
        "  f.write(\"my name is Prostab Kundu\")\n",
        "finally:\n",
        "  f.close()"
      ],
      "execution_count": 2,
      "outputs": []
    },
    {
      "cell_type": "code",
      "metadata": {
        "colab": {
          "base_uri": "https://localhost:8080/",
          "height": 35
        },
        "id": "cQtP0EAqbPeD",
        "outputId": "8db12551-4f52-4904-dc63-c0944f830b01"
      },
      "source": [
        "f = open(\"test.txt\")\n",
        "f.read(4)"
      ],
      "execution_count": 3,
      "outputs": [
        {
          "output_type": "execute_result",
          "data": {
            "application/vnd.google.colaboratory.intrinsic+json": {
              "type": "string"
            },
            "text/plain": [
              "'this'"
            ]
          },
          "metadata": {
            "tags": []
          },
          "execution_count": 3
        }
      ]
    },
    {
      "cell_type": "code",
      "metadata": {
        "colab": {
          "base_uri": "https://localhost:8080/",
          "height": 35
        },
        "id": "V9gMmHaxbqq_",
        "outputId": "b5f38bf6-afee-4e8c-c4c7-b149161f021c"
      },
      "source": [
        "f.read(10)"
      ],
      "execution_count": 4,
      "outputs": [
        {
          "output_type": "execute_result",
          "data": {
            "application/vnd.google.colaboratory.intrinsic+json": {
              "type": "string"
            },
            "text/plain": [
              "' is a new '"
            ]
          },
          "metadata": {
            "tags": []
          },
          "execution_count": 4
        }
      ]
    },
    {
      "cell_type": "code",
      "metadata": {
        "colab": {
          "base_uri": "https://localhost:8080/"
        },
        "id": "ao306Q8kb1B-",
        "outputId": "55e628fd-e87d-46ec-a66d-035c38806364"
      },
      "source": [
        "f.tell()"
      ],
      "execution_count": 5,
      "outputs": [
        {
          "output_type": "execute_result",
          "data": {
            "text/plain": [
              "14"
            ]
          },
          "metadata": {
            "tags": []
          },
          "execution_count": 5
        }
      ]
    },
    {
      "cell_type": "code",
      "metadata": {
        "colab": {
          "base_uri": "https://localhost:8080/"
        },
        "id": "T090OZFJb83Y",
        "outputId": "105062dc-aab2-4add-b751-a57dc32ae777"
      },
      "source": [
        "f.seek(0)"
      ],
      "execution_count": 6,
      "outputs": [
        {
          "output_type": "execute_result",
          "data": {
            "text/plain": [
              "0"
            ]
          },
          "metadata": {
            "tags": []
          },
          "execution_count": 6
        }
      ]
    },
    {
      "cell_type": "code",
      "metadata": {
        "colab": {
          "base_uri": "https://localhost:8080/"
        },
        "id": "wkOeYH_EcCnC",
        "outputId": "4e3ba966-c6f0-450d-8950-c9dd67d71cae"
      },
      "source": [
        "print(f.read())"
      ],
      "execution_count": 7,
      "outputs": [
        {
          "output_type": "stream",
          "text": [
            "this is a new filemy name is Prostab Kundu\n"
          ],
          "name": "stdout"
        }
      ]
    },
    {
      "cell_type": "code",
      "metadata": {
        "colab": {
          "base_uri": "https://localhost:8080/",
          "height": 35
        },
        "id": "4QAPKbYg-gQy",
        "outputId": "25c8912a-55d7-4c8a-907f-f9574315c7e2"
      },
      "source": [
        "  f.readline()"
      ],
      "execution_count": 8,
      "outputs": [
        {
          "output_type": "execute_result",
          "data": {
            "application/vnd.google.colaboratory.intrinsic+json": {
              "type": "string"
            },
            "text/plain": [
              "''"
            ]
          },
          "metadata": {
            "tags": []
          },
          "execution_count": 8
        }
      ]
    },
    {
      "cell_type": "code",
      "metadata": {
        "id": "XmZaHMSDcMyF",
        "colab": {
          "base_uri": "https://localhost:8080/"
        },
        "outputId": "a54d5356-bc87-4344-fc09-35f578a2e8b2"
      },
      "source": [
        "f.seek(0)\n"
      ],
      "execution_count": 9,
      "outputs": [
        {
          "output_type": "execute_result",
          "data": {
            "text/plain": [
              "0"
            ]
          },
          "metadata": {
            "tags": []
          },
          "execution_count": 9
        }
      ]
    },
    {
      "cell_type": "code",
      "metadata": {
        "colab": {
          "base_uri": "https://localhost:8080/",
          "height": 35
        },
        "id": "9uXgW-0J-5cz",
        "outputId": "3b9a5df4-6940-4bb4-ff74-f17b6c416e34"
      },
      "source": [
        "  f.readline() "
      ],
      "execution_count": 10,
      "outputs": [
        {
          "output_type": "execute_result",
          "data": {
            "application/vnd.google.colaboratory.intrinsic+json": {
              "type": "string"
            },
            "text/plain": [
              "'this is a new filemy name is Prostab Kundu'"
            ]
          },
          "metadata": {
            "tags": []
          },
          "execution_count": 10
        }
      ]
    },
    {
      "cell_type": "code",
      "metadata": {
        "colab": {
          "base_uri": "https://localhost:8080/"
        },
        "id": "hH11zbaq_AjX",
        "outputId": "6c3a36ff-c65e-40f4-a2f9-0c52f2599e95"
      },
      "source": [
        "f.seek(0)\n",
        "f.readlines()"
      ],
      "execution_count": 12,
      "outputs": [
        {
          "output_type": "execute_result",
          "data": {
            "text/plain": [
              "['this is a new filemy name is Prostab Kundu']"
            ]
          },
          "metadata": {
            "tags": []
          },
          "execution_count": 12
        }
      ]
    },
    {
      "cell_type": "code",
      "metadata": {
        "id": "A8sVZnrp_REz"
      },
      "source": [
        " import os\n",
        " os.rename(\"test.txt\",\"sample.txt\")"
      ],
      "execution_count": 13,
      "outputs": []
    },
    {
      "cell_type": "code",
      "metadata": {
        "colab": {
          "base_uri": "https://localhost:8080/",
          "height": 35
        },
        "id": "YvlqmGUe_nOz",
        "outputId": "3743d3be-3fe9-433b-bbbc-6321c9828b7b"
      },
      "source": [
        "f = open(\"sample.txt\",\"r\")\n",
        "f.readline()"
      ],
      "execution_count": 14,
      "outputs": [
        {
          "output_type": "execute_result",
          "data": {
            "application/vnd.google.colaboratory.intrinsic+json": {
              "type": "string"
            },
            "text/plain": [
              "'this is a new filemy name is Prostab Kundu'"
            ]
          },
          "metadata": {
            "tags": []
          },
          "execution_count": 14
        }
      ]
    },
    {
      "cell_type": "code",
      "metadata": {
        "colab": {
          "base_uri": "https://localhost:8080/",
          "height": 35
        },
        "id": "zP0WiX5w_xuy",
        "outputId": "9f8bb92e-ebba-4812-e571-00139cf79eda"
      },
      "source": [
        "os.getcwd( )"
      ],
      "execution_count": 15,
      "outputs": [
        {
          "output_type": "execute_result",
          "data": {
            "application/vnd.google.colaboratory.intrinsic+json": {
              "type": "string"
            },
            "text/plain": [
              "'/content'"
            ]
          },
          "metadata": {
            "tags": []
          },
          "execution_count": 15
        }
      ]
    },
    {
      "cell_type": "code",
      "metadata": {
        "colab": {
          "base_uri": "https://localhost:8080/"
        },
        "id": "rYgEr8tG_xxs",
        "outputId": "d45030e7-e68c-4b06-ddd7-182adf4e28db"
      },
      "source": [
        "os.listdir(os.getcwd())"
      ],
      "execution_count": 16,
      "outputs": [
        {
          "output_type": "execute_result",
          "data": {
            "text/plain": [
              "['.config', 'sample.txt', 'sample_data']"
            ]
          },
          "metadata": {
            "tags": []
          },
          "execution_count": 16
        }
      ]
    },
    {
      "cell_type": "code",
      "metadata": {
        "id": "5ON2FNwS_x0m"
      },
      "source": [
        "os.mkdir(\"test\")"
      ],
      "execution_count": 17,
      "outputs": []
    },
    {
      "cell_type": "code",
      "metadata": {
        "id": "8GBUdfkf_x3g"
      },
      "source": [
        "#removin emplty directory\n",
        "os.rmdir(\"test\")"
      ],
      "execution_count": 18,
      "outputs": []
    },
    {
      "cell_type": "code",
      "metadata": {
        "id": "7Hq3hscH_x65"
      },
      "source": [
        " #import shutil\n",
        " #os.mkdir(\"test\")\n",
        " #os.chdir(\"./test\")\n",
        " #f = open(\"testfile.txt\")\n",
        " #f.write(\"hello\")\n",
        " #os.chdir(../)\n",
        " #shutil.rmtre(\"test\")"
      ],
      "execution_count": null,
      "outputs": []
    },
    {
      "cell_type": "code",
      "metadata": {
        "id": "X6xKc01W-59T"
      },
      "source": [
        ""
      ],
      "execution_count": null,
      "outputs": []
    }
  ]
}