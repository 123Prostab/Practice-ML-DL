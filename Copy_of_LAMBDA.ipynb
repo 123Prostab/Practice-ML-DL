{
  "nbformat": 4,
  "nbformat_minor": 0,
  "metadata": {
    "colab": {
      "name": "Copy of LAMBDA.ipynb",
      "provenance": [],
      "authorship_tag": "ABX9TyMtOZ+0sUAjsj3gc/etnFIc",
      "include_colab_link": true
    },
    "kernelspec": {
      "name": "python3",
      "display_name": "Python 3"
    },
    "language_info": {
      "name": "python"
    }
  },
  "cells": [
    {
      "cell_type": "markdown",
      "metadata": {
        "id": "view-in-github",
        "colab_type": "text"
      },
      "source": [
        "<a href=\"https://colab.research.google.com/github/123Prostab/Practice-ML-DL/blob/main/Copy_of_LAMBDA.ipynb\" target=\"_parent\"><img src=\"https://colab.research.google.com/assets/colab-badge.svg\" alt=\"Open In Colab\"/></a>"
      ]
    },
    {
      "cell_type": "code",
      "metadata": {
        "colab": {
          "base_uri": "https://localhost:8080/"
        },
        "id": "hZsdphaQHpoT",
        "outputId": "eb945c58-5f49-4b4a-f21f-1bf211e404f7"
      },
      "source": [
        "def double(x):\n",
        "  return x * 2\n",
        "print(double(5))"
      ],
      "execution_count": null,
      "outputs": [
        {
          "output_type": "stream",
          "text": [
            "10\n"
          ],
          "name": "stdout"
        }
      ]
    },
    {
      "cell_type": "code",
      "metadata": {
        "colab": {
          "base_uri": "https://localhost:8080/"
        },
        "id": "yA_jOgQzH3jZ",
        "outputId": "992e9e89-2c04-449d-c87f-46be325310dc"
      },
      "source": [
        "double = lambda x: x*2\n",
        "print(double(5))"
      ],
      "execution_count": null,
      "outputs": [
        {
          "output_type": "stream",
          "text": [
            "10\n"
          ],
          "name": "stdout"
        }
      ]
    },
    {
      "cell_type": "code",
      "metadata": {
        "colab": {
          "base_uri": "https://localhost:8080/"
        },
        "id": "nfXDhU5WIzVx",
        "outputId": "edee79f1-ebd3-4a00-9229-e78739a8a440"
      },
      "source": [
        "#example of using it with filter\n",
        "l1 = list(range(10))\n",
        "l2 = list(filter(lambda x : x % 2 == 0,l1))\n",
        "print(l2)"
      ],
      "execution_count": null,
      "outputs": [
        {
          "output_type": "stream",
          "text": [
            "[0, 2, 4, 6, 8]\n"
          ],
          "name": "stdout"
        }
      ]
    },
    {
      "cell_type": "code",
      "metadata": {
        "colab": {
          "base_uri": "https://localhost:8080/"
        },
        "id": "AdBMISmSIb8q",
        "outputId": "01392870-34f2-4817-ba93-21036316daf1"
      },
      "source": [
        "#example of using with map()\n",
        "lst = [1,2,3,4,5]\n",
        "new_lst = list(map(lambda x : x ** 2,lst))\n",
        "print(new_lst)"
      ],
      "execution_count": null,
      "outputs": [
        {
          "output_type": "stream",
          "text": [
            "[1, 4, 9, 16, 25]\n"
          ],
          "name": "stdout"
        }
      ]
    },
    {
      "cell_type": "code",
      "metadata": {
        "colab": {
          "base_uri": "https://localhost:8080/"
        },
        "id": "LE8iCN9wJNOM",
        "outputId": "2edb740d-2bdf-459d-fbca-2a43afbe25f4"
      },
      "source": [
        "#example use with reduce \n",
        "from functools import reduce\n",
        "lst = [1,2,3,4,5]\n",
        "product_list = reduce(lambda x , y: x * y,lst)\n",
        "print(product_list)"
      ],
      "execution_count": null,
      "outputs": [
        {
          "output_type": "stream",
          "text": [
            "120\n"
          ],
          "name": "stdout"
        }
      ]
    }
  ]
}